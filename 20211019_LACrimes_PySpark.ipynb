{
 "cells": [
  {
   "cell_type": "markdown",
   "id": "f63ab4d0",
   "metadata": {},
   "source": [
    "![](pic.png)\n",
    "\n",
    "\n",
    "\n",
    "\n"
   ]
  },
  {
   "cell_type": "markdown",
   "id": "448de955",
   "metadata": {},
   "source": [
    "![](pic.jpg)"
   ]
  },
  {
   "cell_type": "markdown",
   "id": "d9bc8483",
   "metadata": {},
   "source": [
    "# Dataset link:"
   ]
  },
  {
   "cell_type": "markdown",
   "id": "fc024608",
   "metadata": {},
   "source": [
    "https://www.kaggle.com/sumaiaparveenshupti/los-angeles-crime-data-20102020?select=Crime_Data_from_2020_to_Present.csv "
   ]
  },
  {
   "cell_type": "markdown",
   "id": "60a55b08",
   "metadata": {},
   "source": [
    "---"
   ]
  },
  {
   "cell_type": "code",
   "execution_count": 79,
   "id": "0e8aebf2",
   "metadata": {},
   "outputs": [],
   "source": [
    "import findspark\n",
    "findspark.init()\n",
    "\n",
    "from pyspark.context import SparkContext\n",
    "from pyspark.sql.session import SparkSession\n",
    "\n",
    "sc = SparkContext.getOrCreate()\n",
    "spark = SparkSession(sc)"
   ]
  },
  {
   "cell_type": "markdown",
   "id": "e5777f80",
   "metadata": {},
   "source": [
    "### Data source and Spark data abstraction (DataFrame) setup"
   ]
  },
  {
   "cell_type": "markdown",
   "id": "65a403c7",
   "metadata": {},
   "source": [
    "We had to manually set the schema to avoid problems with Time column,\\\n",
    "Time column is in military hour, if spark infers the schema it erases the 00 at the beginning, loosing the format"
   ]
  },
  {
   "cell_type": "code",
   "execution_count": 80,
   "id": "ea586bad",
   "metadata": {},
   "outputs": [],
   "source": [
    "#Defining Schema\n",
    "from pyspark.sql.types import StructType, StructField, IntegerType, DateType, DoubleType, StringType\n",
    "\n",
    "dfschema = StructType([\n",
    "    StructField(\"DR_NO\", IntegerType()),\n",
    "    StructField(\"Date Rptd\", StringType()),\n",
    "    StructField(\"DATE OCC\", StringType()),\n",
    "    StructField(\"TIME OCC\", StringType()),\n",
    "    StructField(\"AREA\", IntegerType()),      \n",
    "    StructField(\"AREA NAME\", StringType()),\n",
    "    StructField(\"Rpt Dist No\", IntegerType()),\n",
    "    StructField(\"Part 1-2\", IntegerType()),\n",
    "    StructField(\"Crm Cd\", IntegerType()),\n",
    "    StructField(\"Crm Cd Desc\", StringType()),\n",
    "    StructField(\"Mocodes\", StringType()),\n",
    "    StructField(\"Vict Age\", IntegerType()),\n",
    "    StructField(\"Vict Sex\", StringType()),\n",
    "    StructField(\"Vict Descent\", StringType()),\n",
    "    StructField(\"Premis Cd\", IntegerType()),\n",
    "    StructField(\"Premis Desc\", StringType()),\n",
    "    StructField(\"Weapon Used Cd\", IntegerType()),\n",
    "    StructField(\"Weapon Desc\", StringType()),\n",
    "    StructField(\"Status\", StringType()),\n",
    "    StructField(\"Status Desc\", StringType()),\n",
    "    StructField(\"Crm Cd 1\", IntegerType()),\n",
    "    StructField(\"Crm Cd 2\", IntegerType()),\n",
    "    StructField(\"Crm Cd 3\", IntegerType()),\n",
    "    StructField(\"Crm Cd 4\", IntegerType()),\n",
    "    StructField(\"LOCATION\", StringType()),\n",
    "    StructField(\"Cross Street\", StringType()),\n",
    "    StructField(\"LAT\", DoubleType()),\n",
    "    StructField(\"LON\", DoubleType()),   \n",
    "])"
   ]
  },
  {
   "cell_type": "code",
   "execution_count": 81,
   "id": "74456f33",
   "metadata": {},
   "outputs": [],
   "source": [
    "LA_crimesdf = spark.read \\\n",
    "                 .schema(dfschema) \\\n",
    "                 .option(\"header\", \"true\") \\\n",
    "                 .csv(\"crime_LA.csv\")\n",
    "                # .option(\"inferSchema\", \"true\") \\"
   ]
  },
  {
   "cell_type": "markdown",
   "id": "c97b98b9",
   "metadata": {},
   "source": [
    "### Display schema and size of the DataFrame"
   ]
  },
  {
   "cell_type": "code",
   "execution_count": 82,
   "id": "fb286a46",
   "metadata": {},
   "outputs": [
    {
     "name": "stdout",
     "output_type": "stream",
     "text": [
      "root\n",
      " |-- DR_NO: integer (nullable = true)\n",
      " |-- Date Rptd: string (nullable = true)\n",
      " |-- DATE OCC: string (nullable = true)\n",
      " |-- TIME OCC: string (nullable = true)\n",
      " |-- AREA: integer (nullable = true)\n",
      " |-- AREA NAME: string (nullable = true)\n",
      " |-- Rpt Dist No: integer (nullable = true)\n",
      " |-- Part 1-2: integer (nullable = true)\n",
      " |-- Crm Cd: integer (nullable = true)\n",
      " |-- Crm Cd Desc: string (nullable = true)\n",
      " |-- Mocodes: string (nullable = true)\n",
      " |-- Vict Age: integer (nullable = true)\n",
      " |-- Vict Sex: string (nullable = true)\n",
      " |-- Vict Descent: string (nullable = true)\n",
      " |-- Premis Cd: integer (nullable = true)\n",
      " |-- Premis Desc: string (nullable = true)\n",
      " |-- Weapon Used Cd: integer (nullable = true)\n",
      " |-- Weapon Desc: string (nullable = true)\n",
      " |-- Status: string (nullable = true)\n",
      " |-- Status Desc: string (nullable = true)\n",
      " |-- Crm Cd 1: integer (nullable = true)\n",
      " |-- Crm Cd 2: integer (nullable = true)\n",
      " |-- Crm Cd 3: integer (nullable = true)\n",
      " |-- Crm Cd 4: integer (nullable = true)\n",
      " |-- LOCATION: string (nullable = true)\n",
      " |-- Cross Street: string (nullable = true)\n",
      " |-- LAT: double (nullable = true)\n",
      " |-- LON: double (nullable = true)\n",
      "\n"
     ]
    },
    {
     "name": "stderr",
     "output_type": "stream",
     "text": [
      "                                                                                \r"
     ]
    },
    {
     "data": {
      "text/markdown": [
       "This DataFrame has **2117589 rows**."
      ],
      "text/plain": [
       "<IPython.core.display.Markdown object>"
      ]
     },
     "metadata": {},
     "output_type": "display_data"
    }
   ],
   "source": [
    "from IPython.display import display, Markdown\n",
    "\n",
    "LA_crimesdf.printSchema()\n",
    "display(Markdown(\"This DataFrame has **%d rows**.\" % LA_crimesdf.count()))"
   ]
  },
  {
   "cell_type": "code",
   "execution_count": 83,
   "id": "f3bd6297",
   "metadata": {},
   "outputs": [],
   "source": [
    "from pyspark.sql.functions import * \n",
    "\n",
    "spark.sql(\"set spark.sql.legacy.timeParserPolicy=LEGACY\")\n",
    "\n",
    "df_schema = LA_crimesdf.withColumn(\"DATE OCC\", to_date(col(\"DATE OCC\"),\"MM/dd/yyyy hh:mm:ss a\")) \\\n",
    "            .withColumn(\"Date Rptd\", to_date(col(\"Date Rptd\"),\"MM/dd/yyyy hh:mm:ss a\")) \\\n",
    "            .withColumn(\"TIME OCC\", to_timestamp(col(\"TIME OCC\"),\"HHmm\"))\n",
    "            #.printSchema()"
   ]
  },
  {
   "cell_type": "code",
   "execution_count": 84,
   "id": "91c8f139",
   "metadata": {},
   "outputs": [
    {
     "name": "stdout",
     "output_type": "stream",
     "text": [
      "+----------+\n",
      "| Date Rptd|\n",
      "+----------+\n",
      "|2010-02-20|\n",
      "|2010-09-13|\n",
      "+----------+\n",
      "only showing top 2 rows\n",
      "\n"
     ]
    }
   ],
   "source": [
    "#Checking transformations\n",
    "df_schema.select(\"Date Rptd\").show(2)"
   ]
  },
  {
   "cell_type": "code",
   "execution_count": 85,
   "id": "7aed1b0a",
   "metadata": {},
   "outputs": [
    {
     "name": "stdout",
     "output_type": "stream",
     "text": [
      "root\n",
      " |-- DR_NO: integer (nullable = true)\n",
      " |-- Date Rptd: date (nullable = true)\n",
      " |-- DATE OCC: date (nullable = true)\n",
      " |-- TIME OCC: timestamp (nullable = true)\n",
      " |-- AREA: integer (nullable = true)\n",
      " |-- AREA NAME: string (nullable = true)\n",
      " |-- Rpt Dist No: integer (nullable = true)\n",
      " |-- Part 1-2: integer (nullable = true)\n",
      " |-- Crm Cd: integer (nullable = true)\n",
      " |-- Crm Cd Desc: string (nullable = true)\n",
      " |-- Mocodes: string (nullable = true)\n",
      " |-- Vict Age: integer (nullable = true)\n",
      " |-- Vict Sex: string (nullable = true)\n",
      " |-- Vict Descent: string (nullable = true)\n",
      " |-- Premis Cd: integer (nullable = true)\n",
      " |-- Premis Desc: string (nullable = true)\n",
      " |-- Weapon Used Cd: integer (nullable = true)\n",
      " |-- Weapon Desc: string (nullable = true)\n",
      " |-- Status: string (nullable = true)\n",
      " |-- Status Desc: string (nullable = true)\n",
      " |-- Crm Cd 1: integer (nullable = true)\n",
      " |-- Crm Cd 2: integer (nullable = true)\n",
      " |-- Crm Cd 3: integer (nullable = true)\n",
      " |-- Crm Cd 4: integer (nullable = true)\n",
      " |-- LOCATION: string (nullable = true)\n",
      " |-- Cross Street: string (nullable = true)\n",
      " |-- LAT: double (nullable = true)\n",
      " |-- LON: double (nullable = true)\n",
      "\n"
     ]
    }
   ],
   "source": [
    "df_schema.printSchema()"
   ]
  },
  {
   "cell_type": "markdown",
   "id": "a0312d78",
   "metadata": {},
   "source": [
    "### Random Samples"
   ]
  },
  {
   "cell_type": "code",
   "execution_count": 88,
   "id": "04e7887b",
   "metadata": {},
   "outputs": [
    {
     "data": {
      "text/markdown": [
       "This DataFrame has **2115544 rows**."
      ],
      "text/plain": [
       "<IPython.core.display.Markdown object>"
      ]
     },
     "metadata": {},
     "output_type": "display_data"
    }
   ],
   "source": [
    "df_schema.cache() # optimization to make the processing faster\n",
    "df_sample = df_schema.sample(False, 0.999)\n",
    "display(Markdown(\"This DataFrame has **%d rows**.\" % df_sample.count()))"
   ]
  },
  {
   "cell_type": "code",
   "execution_count": 89,
   "id": "e67e2b0c",
   "metadata": {},
   "outputs": [
    {
     "data": {
      "text/markdown": [
       "This DataFrame has **1745257 rows**."
      ],
      "text/plain": [
       "<IPython.core.display.Markdown object>"
      ]
     },
     "metadata": {},
     "output_type": "display_data"
    }
   ],
   "source": [
    "#We do have negative ages that we will not take into consideration\n",
    "df_sample=df_sample.where(col(\"Vict Age\")>0)\n",
    "\n",
    "display(Markdown(\"This DataFrame has **%d rows**.\" % df_sample.count()))"
   ]
  },
  {
   "cell_type": "code",
   "execution_count": 90,
   "id": "b1627654",
   "metadata": {},
   "outputs": [
    {
     "data": {
      "text/plain": [
       "[Row(year(Date Rptd)=2018),\n",
       " Row(year(Date Rptd)=2015),\n",
       " Row(year(Date Rptd)=2013),\n",
       " Row(year(Date Rptd)=2014),\n",
       " Row(year(Date Rptd)=2019),\n",
       " Row(year(Date Rptd)=2020),\n",
       " Row(year(Date Rptd)=2012),\n",
       " Row(year(Date Rptd)=2016),\n",
       " Row(year(Date Rptd)=2010),\n",
       " Row(year(Date Rptd)=2011),\n",
       " Row(year(Date Rptd)=2017),\n",
       " Row(year(Date Rptd)=2021)]"
      ]
     },
     "execution_count": 90,
     "metadata": {},
     "output_type": "execute_result"
    }
   ],
   "source": [
    "#Checking that all the years are in the dataset\n",
    "df_sample.select(year(\"Date Rptd\")).distinct().collect()"
   ]
  },
  {
   "cell_type": "markdown",
   "id": "107c43d4",
   "metadata": {},
   "source": [
    "### Basic Profiling"
   ]
  },
  {
   "cell_type": "markdown",
   "id": "82a828da",
   "metadata": {},
   "source": [
    "**Variable segmentation:**\n",
    "\n",
    "        DR_NO: Division of Records Number: Official file number made up of a 2 digit year, area ID, and 5 digits.\n",
    "\n",
    " - `Where and When Crime Ocurred`\n",
    "  \n",
    "        - DATE OCC: MM/DD/YYYY.\n",
    "        - TIME OCC: In 24 hour military time.\n",
    "        - AREA: The LAPD has 21 Community Police Stations referred to as Geographic Areas within the department. These Geographic Areas are sequentially numbered from 1-21.\n",
    "        - AREA NAME: The 21 Geographic Areas or Patrol Divisions are also given a name designation that references a landmark or the surrounding community that it is responsible for. For example 77th Street Division is located at the intersection of South Broadway and 77th Street, serving neighborhoods in South Los Angeles.\n",
    "        - Rpt Dist No: A four-digit code that represents a sub-area within a Geographic Area. All crime records reference the \"RD\" that it occurred in for statistical comparisons.\n",
    "        - LOCATION: Street address of crime incident rounded to the nearest hundred block to maintain anonymity.\n",
    "        - Cross Street: Cross Street of rounded Address.\n",
    "        - LAT: Latitude.\n",
    "        - LON: Longitude.\n",
    "        \n",
    "        \n",
    " - `Crime Description`\n",
    " \n",
    "        - Crm Cd: Indicates the crime committed. (Same as Crime Code 1)\n",
    "        - Crm Cd Desc: Defines the Crime Code provided.\n",
    "        - Mocodes: Modus Operandi: Activities associated with the suspect in commission of the crime.\n",
    "        - Premis Cd: The type of structure, vehicle, or location where the crime took place.\n",
    "        - Premis Desc: Defines the Premise Code provided.\n",
    "        - Weapon Used Cd: The type of weapon used in the crime.\n",
    "        - Weapon Desc: Defines the Weapon Used Code provided.\n",
    "        - Status: Status of the case. (IC is the default).\n",
    "        - Status Desc: Defines the Status Code provided.\n",
    "        - Crm Cd 1: Indicates the crime committed. Crime Code 1 is the primary and most serious one. Crime Code 2, 3, and 4 are respectively less serious offenses. Lower crime class numbers are more serious.\n",
    "        - Crm Cd 2: May contain a code for an additional crime, less serious than Crime Code 1.\n",
    "        - Crm Cd 3: May contain a code for an additional crime, less serious than Crime Code 1.\n",
    "        - Crm Cd 4: May contain a code for an additional crime, less serious than Crime Code 1.\n",
    "        \n",
    " - `Victim Description` \n",
    "        \n",
    "        - Vict Age: Two character numeric.\n",
    "        - Vict Sex: F - Female M - Male X - Unknown.\n",
    "        - Vict Descent: Descent Code: A - Other Asian B - Black C - Chinese D - Cambodian F - Filipino G - Guamanian H - Hispanic/Latin/Mexican I - American Indian/Alaskan Native J - Japanese K - Korean L - Laotian O - Other P - Pacific Islander S - Samoan U - Hawaiian V - Vietnamese W - White X - Unknown Z - Asian Indian.\n",
    "        \n",
    "        "
   ]
  },
  {
   "cell_type": "markdown",
   "id": "8a774ca6",
   "metadata": {},
   "source": [
    "We created additional time features to help us understand the data"
   ]
  },
  {
   "cell_type": "code",
   "execution_count": 91,
   "id": "3dba970b",
   "metadata": {},
   "outputs": [],
   "source": [
    "#Additional Features\n",
    "from pyspark.sql.functions import year, month, quarter\n",
    "\n",
    "df_sample=df_sample.withColumn(\"Year\", year(\"Date Rptd\"))\\\n",
    "                    .withColumn(\"Month\",month(\"Date Rptd\"))\\\n",
    "                    .withColumn(\"Quarter\",quarter(\"Date Rptd\"))\n",
    "                    \n"
   ]
  },
  {
   "cell_type": "markdown",
   "id": "1f51a5e8",
   "metadata": {},
   "source": [
    "Started the data profilling according to our variable segmentation"
   ]
  },
  {
   "cell_type": "markdown",
   "id": "fafe92be",
   "metadata": {},
   "source": [
    "### Where and When Description - Variables"
   ]
  },
  {
   "cell_type": "code",
   "execution_count": 92,
   "id": "5db4dc40",
   "metadata": {},
   "outputs": [
    {
     "name": "stdout",
     "output_type": "stream",
     "text": [
      "\u001b[1mWhere and When Columns\u001b[0m\n",
      "Summary of columns:\n"
     ]
    },
    {
     "name": "stderr",
     "output_type": "stream",
     "text": [
      "                                                                                \r"
     ]
    },
    {
     "name": "stdout",
     "output_type": "stream",
     "text": [
      "+-------+------------------+------------------+-----------------+------------------+\n",
      "|summary|              Hour|              Year|            Month|           Quarter|\n",
      "+-------+------------------+------------------+-----------------+------------------+\n",
      "|  count|           1745257|           1745257|          1745257|           1745257|\n",
      "|   mean|13.292080192200919|2014.6523589362484|6.525010356640885| 2.510120286009453|\n",
      "| stddev| 6.453019170716877| 2.887220249709128|3.411459805471669|1.1076409331321622|\n",
      "|    min|                 0|              2010|                1|                 1|\n",
      "|    25%|                 9|              2012|                4|                 2|\n",
      "|    50%|                14|              2015|                7|                 3|\n",
      "|    75%|                19|              2017|                9|                 3|\n",
      "|    max|                23|              2021|               12|                 4|\n",
      "+-------+------------------+------------------+-----------------+------------------+\n",
      "\n",
      "Checking for nulls:\n"
     ]
    },
    {
     "name": "stderr",
     "output_type": "stream",
     "text": [
      "                                                                                \r"
     ]
    },
    {
     "name": "stdout",
     "output_type": "stream",
     "text": [
      "+---------+--------+--------+----+---------+-----------+--------+------------+---+---+----+-----+-------+\n",
      "|Date Rptd|DATE OCC|TIME OCC|AREA|AREA NAME|Rpt Dist No|LOCATION|Cross Street|LAT|LON|Year|Month|Quarter|\n",
      "+---------+--------+--------+----+---------+-----------+--------+------------+---+---+----+-----+-------+\n",
      "|        0|       0|       0|   0|        0|          0|       0|     1455939|  0|  0|   0|    0|      0|\n",
      "+---------+--------+--------+----+---------+-----------+--------+------------+---+---+----+-----+-------+\n",
      "\n",
      "Checking amount of distinct values:\n"
     ]
    },
    {
     "name": "stderr",
     "output_type": "stream",
     "text": [
      "                                                                                \r"
     ]
    },
    {
     "name": "stdout",
     "output_type": "stream",
     "text": [
      "+---------+-----------+--------+------------+\n",
      "|AREA NAME|Rpt Dist No|Location|Cross Street|\n",
      "+---------+-----------+--------+------------+\n",
      "|       21|       1285|   72276|       11374|\n",
      "+---------+-----------+--------+------------+\n",
      "\n",
      "Most and least frequent occurrences:\n"
     ]
    },
    {
     "data": {
      "text/markdown": [
       "\n",
       "| leastFreqAreaName | mostFreqAreaName | leastFreqTimeOcc | mostFreqTimeOcc | leastFreqCrossStreet | mostFreqCrossStreet |\n",
       "|----|----|----|----|----|----|\n",
       "| Hollenbeck (57312 occurrences) | 77th Street (123682 occurrences) | 5 (21336 occurrences) | 12 (147568 occurrences) | DUBLIN                       AV (1 occurrences) | None (1455939 occurrences) |\n"
      ],
      "text/plain": [
       "<IPython.core.display.Markdown object>"
      ]
     },
     "metadata": {},
     "output_type": "display_data"
    }
   ],
   "source": [
    "from IPython.display import display, Markdown\n",
    "from pyspark.sql.functions import when, count, col, countDistinct, desc, first, lit, asc_nulls_last, desc_nulls_last, hour\n",
    "\n",
    "\n",
    "print('\\033[1m' + \"Where and When Columns\" + '\\033[0m')\n",
    "\n",
    "print (\"Summary of columns:\")\n",
    "df_sample.select(hour(\"TIME OCC\").alias(\"Hour\"),\"Year\",\"Month\",\"Quarter\").summary().show()\n",
    "\n",
    "print(\"Checking for nulls:\")\n",
    "df_sample.select([count(when(col(c).isNull(), c)).alias(c) for c in [\"Date Rptd\",\"DATE OCC\",\"TIME OCC\",\"AREA\",\"AREA NAME\",\"Rpt Dist No\",\"LOCATION\",\"Cross Street\",\"LAT\",\"LON\",\"Year\",\"Month\",\"Quarter\"]]).show()\n",
    "\n",
    "print(\"Checking amount of distinct values:\")\n",
    "df_sample.select([countDistinct(c).alias(c) for c in [\"AREA NAME\",\"Rpt Dist No\",\"Location\",\"Cross Street\"]]).show()\n",
    "\n",
    "print (\"Most and least frequent occurrences:\")\n",
    "freq_AreaName = df_sample.groupBy(\"AREA NAME\").agg(count(lit(1)).alias(\"Total\"))\n",
    "freq_CrossStreet = df_sample.groupBy(\"Cross Street\").agg(count(lit(1)).alias(\"Total\"))\n",
    "#freq_TimeOcc = df_sample.groupBy(\"TIME OCC\").agg(count(lit(1)).alias(\"Total\"))\n",
    "freq_TimeOcc = df_sample.groupBy(hour(\"TIME OCC\").alias(\"TIME OCC\")).agg(count(lit(1)).alias(\"Total\"))\n",
    "\n",
    "leastFreqAreaName = freq_AreaName.orderBy(col(\"Total\").asc()).first()\n",
    "mostFreqAreaName = freq_AreaName.orderBy(col(\"Total\").desc()).first()\n",
    "leastFreqTimeOcc = freq_TimeOcc.orderBy(col(\"Total\").asc()).first()\n",
    "mostFreqTimeOcc = freq_TimeOcc.orderBy(col(\"Total\").desc()).first()\n",
    "leastFreqCrossStreet = freq_CrossStreet.orderBy(col(\"Total\").asc()).first()\n",
    "mostFreqCrossStreet = freq_CrossStreet.orderBy(col(\"Total\").desc()).first()\n",
    "                                               \n",
    "display(Markdown(\n",
    "    \n",
    "    \"\"\"\n",
    "| %s | %s | %s | %s | %s | %s |\n",
    "|----|----|----|----|----|----|\n",
    "| %s | %s | %s | %s | %s | %s |\n",
    "\"\"\" % (\"leastFreqAreaName\", \"mostFreqAreaName\", \"leastFreqTimeOcc\", \"mostFreqTimeOcc\", \"leastFreqCrossStreet\", \"mostFreqCrossStreet\", \\\n",
    "       \"%s (%d occurrences)\" % (leastFreqAreaName[\"AREA NAME\"], leastFreqAreaName[\"Total\"]), \\\n",
    "       \"%s (%d occurrences)\" % (mostFreqAreaName[\"AREA NAME\"], mostFreqAreaName[\"Total\"]), \\\n",
    "       \"%s (%d occurrences)\" % (leastFreqTimeOcc[\"TIME OCC\"], leastFreqTimeOcc[\"Total\"]), \\\n",
    "       \"%s (%d occurrences)\" % (mostFreqTimeOcc[\"TIME OCC\"], mostFreqTimeOcc[\"Total\"]), \\\n",
    "       \"%s (%d occurrences)\" % (leastFreqCrossStreet[\"Cross Street\"], leastFreqCrossStreet[\"Total\"]), \\\n",
    "       \"%s (%d occurrences)\" % (mostFreqCrossStreet[\"Cross Street\"], mostFreqCrossStreet[\"Total\"]))))"
   ]
  },
  {
   "cell_type": "markdown",
   "id": "31e14955",
   "metadata": {},
   "source": [
    "### Crime Description - Variables"
   ]
  },
  {
   "cell_type": "code",
   "execution_count": 93,
   "id": "ff6232bb",
   "metadata": {},
   "outputs": [
    {
     "name": "stdout",
     "output_type": "stream",
     "text": [
      "\u001b[1mCrime Description Columns\u001b[0m\n",
      "Summary of columns:\n"
     ]
    },
    {
     "name": "stderr",
     "output_type": "stream",
     "text": [
      "                                                                                \r"
     ]
    },
    {
     "name": "stdout",
     "output_type": "stream",
     "text": [
      "+-------+-----------------+------------------+-----------------+-----------------+-----------------+\n",
      "|summary|           Crm Cd|          Crm Cd 1|         Crm Cd 2|         Crm Cd 3|         Crm Cd 4|\n",
      "+-------+-----------------+------------------+-----------------+-----------------+-----------------+\n",
      "|  count|          1745257|           1745248|           114819|             3240|               99|\n",
      "|   mean|506.1865559055199|505.98993781972536|943.2570306308189|972.5608024691358|975.3434343434343|\n",
      "| stddev|220.4244607410514| 220.2705380127317|131.5103035547205|85.25279775547192|82.37856388700237|\n",
      "|    min|              110|               110|              210|               93|              421|\n",
      "|    25%|              330|               330|              998|              998|              998|\n",
      "|    50%|              440|               440|              998|              998|              998|\n",
      "|    75%|              648|               648|              998|              998|              998|\n",
      "|    max|              956|               956|              999|              999|              999|\n",
      "+-------+-----------------+------------------+-----------------+-----------------+-----------------+\n",
      "\n",
      "Checking for nulls:\n",
      "+------+-----------+-------+---------+-----------+\n",
      "|Crm Cd|Crm Cd Desc|Mocodes|Premis Cd|Premis Desc|\n",
      "+------+-----------+-------+---------+-----------+\n",
      "|     0|          0|  26793|       24|         91|\n",
      "+------+-----------+-------+---------+-----------+\n",
      "\n"
     ]
    },
    {
     "name": "stderr",
     "output_type": "stream",
     "text": [
      "\r",
      "[Stage 343:============================>                            (2 + 2) / 4]\r",
      "\r",
      "                                                                                \r"
     ]
    },
    {
     "name": "stdout",
     "output_type": "stream",
     "text": [
      "+--------------+-----------+------+-----------+--------+--------+--------+--------+\n",
      "|Weapon Used Cd|Weapon Desc|Status|Status Desc|Crm Cd 1|Crm Cd 2|Crm Cd 3|Crm Cd 4|\n",
      "+--------------+-----------+------+-----------+--------+--------+--------+--------+\n",
      "|       1069367|    1069368|     1|          0|       9| 1630438| 1742017| 1745158|\n",
      "+--------------+-----------+------+-----------+--------+--------+--------+--------+\n",
      "\n",
      "Checking amount of distinct values:\n"
     ]
    },
    {
     "name": "stderr",
     "output_type": "stream",
     "text": [
      "                                                                                \r"
     ]
    },
    {
     "name": "stdout",
     "output_type": "stream",
     "text": [
      "+--------------+-----------+------+-----------+-------+\n",
      "|Weapon Used Cd|Weapon Desc|Status|Status Desc|Mocodes|\n",
      "+--------------+-----------+------+-----------+-------+\n",
      "|            80|         79|     6|          6| 453268|\n",
      "+--------------+-----------+------+-----------+-------+\n",
      "\n",
      "Most and least frequent occurrences:\n"
     ]
    },
    {
     "data": {
      "text/markdown": [
       "\n",
       "| leastFreqCrmCdDesc | mostFreqCrmCdDesc | leastFreqStatusDesc | mostFreqStatusDesc || leastFreqWeaponDesc || mostFreqWeaponDesc |\n",
       "|----|----|----|----||----||----|\n",
       "| FIREARMS TEMPORARY RESTRAINING ORDER (TEMP FIREARMS RO) (1 occurrences) | BATTERY - SIMPLE ASSAULT (188537 occurrences) | UNK (25 occurrences) | Invest Cont (1308566 occurrences) || M-14 SEMIAUTOMATIC ASSAULT RIFLE (1 occurrences) || None (1069368 occurrences) |\n"
      ],
      "text/plain": [
       "<IPython.core.display.Markdown object>"
      ]
     },
     "metadata": {},
     "output_type": "display_data"
    }
   ],
   "source": [
    "print('\\033[1m' + \"Crime Description Columns\" + '\\033[0m')\n",
    "\n",
    "print (\"Summary of columns:\")\n",
    "df_sample.select(\"Crm Cd\",\"Crm Cd 1\",\"Crm Cd 2\",\"Crm Cd 3\",\"Crm Cd 4\").summary().show()\n",
    "\n",
    "print(\"Checking for nulls:\")\n",
    "df_sample.select([count(when(col(c).isNull(), c)).alias(c) for c in [\"Crm Cd\",\"Crm Cd Desc\",\"Mocodes\",\"Premis Cd\",\"Premis Desc\"]]).show()\n",
    "df_sample.select([count(when(col(c).isNull(), c)).alias(c) for c in [\"Weapon Used Cd\",\"Weapon Desc\",\"Status\",\"Status Desc\",\"Crm Cd 1\",\"Crm Cd 2\",\"Crm Cd 3\",\"Crm Cd 4\"]]).show()\n",
    "\n",
    "print(\"Checking amount of distinct values:\")\n",
    "df_sample.select([countDistinct(c).alias(c) for c in [\"Weapon Used Cd\",\"Weapon Desc\",\"Status\",\"Status Desc\",\"Mocodes\"]]).show()\n",
    "\n",
    "print (\"Most and least frequent occurrences:\")\n",
    "freq_CrmCdDesc = df_sample.groupBy(\"Crm Cd Desc\").agg(count(lit(1)).alias(\"Total\"))\n",
    "freq_StatusDesc = df_sample.groupBy(\"Status Desc\").agg(count(lit(1)).alias(\"Total\"))\n",
    "freq_WeaponDesc = df_sample.groupBy(\"Weapon Desc\").agg(count(lit(1)).alias(\"Total\"))\n",
    "\n",
    "\n",
    "leastFreqCrmCdDesc = freq_CrmCdDesc.orderBy(col(\"Total\").asc()).first()\n",
    "mostFreqCrmCdDesc = freq_CrmCdDesc.orderBy(col(\"Total\").desc()).first()\n",
    "leastFreqStatusDesc = freq_StatusDesc.orderBy(col(\"Total\").asc()).first()\n",
    "mostFreqStatusDesc = freq_StatusDesc.orderBy(col(\"Total\").desc()).first()\n",
    "leastFreqWeaponDesc = freq_WeaponDesc.orderBy(col(\"Total\").asc()).first()\n",
    "mostFreqWeaponDesc = freq_WeaponDesc.orderBy(col(\"Total\").desc()).first()\n",
    "\n",
    "display(Markdown(\n",
    "    \n",
    "    \"\"\"\n",
    "| %s | %s | %s | %s || %s || %s |\n",
    "|----|----|----|----||----||----|\n",
    "| %s | %s | %s | %s || %s || %s |\n",
    "\"\"\" % (\"leastFreqCrmCdDesc\", \"mostFreqCrmCdDesc\", \"leastFreqStatusDesc\", \"mostFreqStatusDesc\",\"leastFreqWeaponDesc\", \"mostFreqWeaponDesc\", \\\n",
    "       \"%s (%d occurrences)\" % (leastFreqCrmCdDesc[\"Crm Cd Desc\"], leastFreqCrmCdDesc[\"Total\"]), \\\n",
    "       \"%s (%d occurrences)\" % (mostFreqCrmCdDesc[\"Crm Cd Desc\"], mostFreqCrmCdDesc[\"Total\"]), \\\n",
    "       \"%s (%d occurrences)\" % (leastFreqStatusDesc[\"Status Desc\"], leastFreqStatusDesc[\"Total\"]), \\\n",
    "       \"%s (%d occurrences)\" % (mostFreqStatusDesc[\"Status Desc\"], mostFreqStatusDesc[\"Total\"]), \\\n",
    "       \"%s (%d occurrences)\" % (leastFreqWeaponDesc[\"Weapon Desc\"], leastFreqWeaponDesc[\"Total\"]), \\\n",
    "       \"%s (%d occurrences)\" % (mostFreqWeaponDesc[\"Weapon Desc\"], mostFreqWeaponDesc[\"Total\"]))))\n"
   ]
  },
  {
   "cell_type": "markdown",
   "id": "cba51323",
   "metadata": {},
   "source": [
    "### Victim Description - Variables"
   ]
  },
  {
   "cell_type": "code",
   "execution_count": 94,
   "id": "cc99c47a",
   "metadata": {},
   "outputs": [
    {
     "name": "stdout",
     "output_type": "stream",
     "text": [
      "\u001b[1mVictim Description Columns\u001b[0m\n",
      "Summary of columns:\n"
     ]
    },
    {
     "name": "stderr",
     "output_type": "stream",
     "text": [
      "                                                                                \r"
     ]
    },
    {
     "name": "stdout",
     "output_type": "stream",
     "text": [
      "+-------+------------------+\n",
      "|summary|          Vict Age|\n",
      "+-------+------------------+\n",
      "|  count|           1745257|\n",
      "|   mean| 38.49861481718738|\n",
      "| stddev|16.039815794776754|\n",
      "|    min|                 2|\n",
      "|    25%|                26|\n",
      "|    50%|                36|\n",
      "|    75%|                50|\n",
      "|    max|               118|\n",
      "+-------+------------------+\n",
      "\n",
      "Checking for nulls:\n",
      "+--------+--------+------------+\n",
      "|Vict Age|Vict Sex|Vict Descent|\n",
      "+--------+--------+------------+\n",
      "|       0|      66|          94|\n",
      "+--------+--------+------------+\n",
      "\n",
      "Checking amount of distinct values:\n"
     ]
    },
    {
     "name": "stderr",
     "output_type": "stream",
     "text": [
      "                                                                                \r"
     ]
    },
    {
     "name": "stdout",
     "output_type": "stream",
     "text": [
      "+--------+--------+------------+\n",
      "|Vict Age|Vict Sex|Vict Descent|\n",
      "+--------+--------+------------+\n",
      "|     100|       6|          20|\n",
      "+--------+--------+------------+\n",
      "\n",
      "Most and least frequent occurrences:\n"
     ]
    },
    {
     "data": {
      "text/markdown": [
       "\n",
       "| leastFreqVictAge | mostFreqVictAge | leastFreqVictSex | mostFreqVictSex | leastFreqVictDescen | mostFreqVictDescen |\n",
       "|----|----|----|----|----|----|\n",
       "| 114 (1 occurrences) | 25 (48105 occurrences) | - (1 occurrences) | F (876564 occurrences) | - (2 occurrences) | H (704340 occurrences) |\n"
      ],
      "text/plain": [
       "<IPython.core.display.Markdown object>"
      ]
     },
     "metadata": {},
     "output_type": "display_data"
    }
   ],
   "source": [
    "#Victim Description\n",
    "\n",
    "print('\\033[1m' + \"Victim Description Columns\" + '\\033[0m')\n",
    "\n",
    "print (\"Summary of columns:\")\n",
    "df_sample.select(\"Vict Age\").summary().show()\n",
    "\n",
    "print(\"Checking for nulls:\")\n",
    "df_sample.select([count(when(col(c).isNull(), c)).alias(c) for c in [\"Vict Age\",\"Vict Sex\",\"Vict Descent\"]]).show()\n",
    "\n",
    "print(\"Checking amount of distinct values:\")\n",
    "df_sample.select([countDistinct(c).alias(c) for c in [\"Vict Age\",\"Vict Sex\",\"Vict Descent\"]]).show()\n",
    "\n",
    "\n",
    "print (\"Most and least frequent occurrences:\")\n",
    "freq_VictAge = df_sample.groupBy(\"Vict Age\").agg(count(lit(1)).alias(\"Total\"))\n",
    "freq_VictSex = df_sample.groupBy(\"Vict Sex\").agg(count(lit(1)).alias(\"Total\"))\n",
    "freq_VictDescent = df_sample.groupBy(\"Vict Descent\").agg(count(lit(1)).alias(\"Total\"))\n",
    "\n",
    "\n",
    "leastFreqVictAge = freq_VictAge.orderBy(col(\"Total\").asc()).first()\n",
    "mostFreqVictAge = freq_VictAge.orderBy(col(\"Total\").desc()).first()\n",
    "leastFreqVictSex = freq_VictSex.orderBy(col(\"Total\").asc()).first()\n",
    "mostFreqVictSex = freq_VictSex.orderBy(col(\"Total\").desc()).first()\n",
    "leastFreqVictDescent = freq_VictDescent.orderBy(col(\"Total\").asc()).first()\n",
    "mostFreqVictDescent = freq_VictDescent.orderBy(col(\"Total\").desc()).first()\n",
    "                                               \n",
    "display(Markdown(\n",
    "    \n",
    "    \"\"\"\n",
    "| %s | %s | %s | %s | %s | %s |\n",
    "|----|----|----|----|----|----|\n",
    "| %s | %s | %s | %s | %s | %s |\n",
    "\"\"\" % (\"leastFreqVictAge\", \"mostFreqVictAge\", \"leastFreqVictSex\", \"mostFreqVictSex\",\"leastFreqVictDescen\", \"mostFreqVictDescen\", \\\n",
    "       \"%s (%d occurrences)\" % (leastFreqVictAge[\"Vict Age\"], leastFreqVictAge[\"Total\"]), \\\n",
    "       \"%s (%d occurrences)\" % (mostFreqVictAge[\"Vict Age\"], mostFreqVictAge[\"Total\"]), \\\n",
    "       \"%s (%d occurrences)\" % (leastFreqVictSex[\"Vict Sex\"], leastFreqVictSex[\"Total\"]), \\\n",
    "       \"%s (%d occurrences)\" % (mostFreqVictSex[\"Vict Sex\"], mostFreqVictSex[\"Total\"]),\\\n",
    "       \"%s (%d occurrences)\" % (leastFreqVictDescent[\"Vict Descent\"], leastFreqVictDescent[\"Total\"]), \\\n",
    "       \"%s (%d occurrences)\" % (mostFreqVictDescent[\"Vict Descent\"], mostFreqVictDescent[\"Total\"]))))"
   ]
  },
  {
   "cell_type": "markdown",
   "id": "684ba9bc",
   "metadata": {},
   "source": [
    "# Business Questions"
   ]
  },
  {
   "cell_type": "markdown",
   "id": "4ba62359",
   "metadata": {},
   "source": [
    "## A. Ratio of crimes commited by time segment"
   ]
  },
  {
   "cell_type": "code",
   "execution_count": 95,
   "id": "b91117e5",
   "metadata": {},
   "outputs": [
    {
     "name": "stderr",
     "output_type": "stream",
     "text": [
      "[Stage 381:============================>                            (2 + 2) / 4]\r"
     ]
    },
    {
     "name": "stdout",
     "output_type": "stream",
     "text": [
      "+---------------+---------+------------+\n",
      "|    TimeSegment|NumCrimes|RoundedRatio|\n",
      "+---------------+---------+------------+\n",
      "|1.Early Morning|   172982|        9.91|\n",
      "| 2.Late Morning|   219416|       12.57|\n",
      "|    3.Afternoon|   309670|       17.74|\n",
      "|      4.Evening|   467938|       26.81|\n",
      "|        5.Night|   351276|       20.13|\n",
      "|         6.Dawn|   223975|       12.83|\n",
      "+---------------+---------+------------+\n",
      "\n"
     ]
    },
    {
     "name": "stderr",
     "output_type": "stream",
     "text": [
      "\r",
      "                                                                                \r"
     ]
    }
   ],
   "source": [
    "from pyspark.sql.functions import count, round\n",
    "\n",
    "# Time Segmentation:\n",
    "#\n",
    "#   \"Early Morning\"     [5:00 AM,9:00 AM) \n",
    "#   \"Late Morning\"     [9:00 AM,12:00 AM)\n",
    "#   \"Afternoon\"         [12:00 AM,15:00 PM)\n",
    "#   \"Evening\"    (15:00 PM,20:00 PM]\n",
    "#   \"Night\"     (20:00 PM,00:00 AM)\n",
    "#   \"Dawn\"     [00:00 AM,5:00 AM)\n",
    "\n",
    "\n",
    "\n",
    "# 1. Let's enrich the DF with our categorization\n",
    "totalCrimes = df_sample.count()\n",
    "TimeCategorizationDF = df_sample.withColumn(\"TimeSegment\", when(((hour(col(\"TIME OCC\"))>=5) & (hour(col(\"TIME OCC\"))<9)).alias(\"TIME OCC\"),\"1.Early Morning\")\\\n",
    "                               .when(((hour(col(\"TIME OCC\"))>=9) & (hour(col(\"TIME OCC\"))<12)).alias(\"TIME OCC\"),\"2.Late Morning\")\\\n",
    "                               .when(((hour(col(\"TIME OCC\"))>=12) & (hour(col(\"TIME OCC\"))<15)).alias(\"TIME OCC\"),\"3.Afternoon\")\\\n",
    "                               .when(((hour(col(\"TIME OCC\"))>=15) & (hour(col(\"TIME OCC\"))<20)).alias(\"TIME OCC\"),\"4.Evening\")\\\n",
    "                               .when(((hour(col(\"TIME OCC\"))>=20) & (hour(col(\"TIME OCC\"))<=23)).alias(\"TIME OCC\"),\"5.Night\")\\\n",
    "                               .otherwise(\"6.Dawn\"))\n",
    "TimeCategorizationDF.cache() # optimization to make the processing faster\n",
    "\n",
    "# 2. Ready to answer to this business question\n",
    "TimeCategorizationDF.select(\"TimeSegment\", \"TIME OCC\")\\\n",
    "                     .groupBy(\"TimeSegment\")\\\n",
    "                     .agg(count(\"TimeSegment\").alias(\"NumCrimes\"), \\\n",
    "                          (count(\"TimeSegment\")/totalCrimes*100).alias(\"Ratio\"))\\\n",
    "                     .orderBy(\"TimeSegment\")\\\n",
    "                     .select(\"TimeSegment\",\"NumCrimes\",round(\"Ratio\",2).alias(\"RoundedRatio\")).show()"
   ]
  },
  {
   "cell_type": "code",
   "execution_count": 96,
   "id": "fcee2966",
   "metadata": {},
   "outputs": [
    {
     "name": "stderr",
     "output_type": "stream",
     "text": [
      "[Stage 385:==========================================>              (3 + 1) / 4]\r"
     ]
    },
    {
     "name": "stdout",
     "output_type": "stream",
     "text": [
      "+-------------+---------+------------+\n",
      "|CrimeSeverity|NumCrimes|RoundedRatio|\n",
      "+-------------+---------+------------+\n",
      "|     1.Severe|    14212|        0.81|\n",
      "|2.Less Severe|   737762|       42.27|\n",
      "|   3.Moderate|   236326|       13.54|\n",
      "|       4.Mild|   551696|       31.61|\n",
      "| 5.Not Severe|   205261|       11.76|\n",
      "+-------------+---------+------------+\n",
      "\n"
     ]
    },
    {
     "name": "stderr",
     "output_type": "stream",
     "text": [
      "\r",
      "[Stage 386:==================================================>  (189 + 3) / 200]\r",
      "\r",
      "                                                                                \r"
     ]
    }
   ],
   "source": [
    "from pyspark.sql.functions import count, round\n",
    "\n",
    "# Crime Severity Segmentation:\n",
    "#\n",
    "#   \"Severe\"     [0, 200] \n",
    "#   \"Less Severe\"     (200,400]\n",
    "#   \"Moderate\"        (400,600]\n",
    "#   \"Mild\"            (600,800]\n",
    "#   \"Not Severe\"     (800,1000)\n",
    "\n",
    "\n",
    "\n",
    "\n",
    "# 1. Let's enrich the DF with our categorization\n",
    "totalCrimes = df_sample.count()\n",
    "SeverityCategorizationDF = TimeCategorizationDF.withColumn(\"CrimeSeverity\", when(col(\"Crm Cd\")<=200,\"1.Severe\")\\\n",
    "                               .when((col(\"Crm Cd\")>200) & (col(\"Crm Cd\")<=400),\"2.Less Severe\")\\\n",
    "                               .when((col(\"Crm Cd\")>400) & (col(\"Crm Cd\")<600),\"3.Moderate\")\\\n",
    "                               .when((col(\"Crm Cd\")>600) & (col(\"Crm Cd\")<800),\"4.Mild\")\\\n",
    "                               .otherwise(\"5.Not Severe\"))\n",
    "SeverityCategorizationDF.cache() # optimization to make the processing faster\n",
    "\n",
    "# 2. Ready to answer to this business question\n",
    "SeverityCategorizationDF.select(\"CrimeSeverity\", \"Crm Cd\")\\\n",
    "                     .groupBy(\"CrimeSeverity\")\\\n",
    "                     .agg(count(\"CrimeSeverity\").alias(\"NumCrimes\"), \\\n",
    "                          (count(\"CrimeSeverity\")/totalCrimes*100).alias(\"Ratio\"))\\\n",
    "                     .orderBy(\"CrimeSeverity\")\\\n",
    "                     .select(\"CrimeSeverity\",\"NumCrimes\",round(\"Ratio\",2).alias(\"RoundedRatio\")).show()"
   ]
  },
  {
   "cell_type": "code",
   "execution_count": 97,
   "id": "bcd015e4",
   "metadata": {},
   "outputs": [
    {
     "data": {
      "text/markdown": [
       "**Severity of Crime by Time of the day** (Order by 1.Severe):"
      ],
      "text/plain": [
       "<IPython.core.display.Markdown object>"
      ]
     },
     "metadata": {},
     "output_type": "display_data"
    },
    {
     "name": "stderr",
     "output_type": "stream",
     "text": [
      "\r",
      "[Stage 391:====================================>                (136 + 2) / 200]\r"
     ]
    },
    {
     "name": "stdout",
     "output_type": "stream",
     "text": [
      "+---------------+--------+-------------+----------+------+-------------+\n",
      "|    TimeSegment|1.Severe|2.Less Severe|3.Moderate|4.Mild|5. Not Severe|\n",
      "+---------------+--------+-------------+----------+------+-------------+\n",
      "|         6.Dawn|    0.26|         5.65|      1.21|  4.41|          1.3|\n",
      "|        5.Night|     0.2|         8.27|      2.43|  7.21|         2.01|\n",
      "|      4.Evening|    0.14|        10.68|      4.28|  8.52|         3.18|\n",
      "|    3.Afternoon|    0.09|         7.86|      2.67|  4.86|         2.27|\n",
      "|1.Early Morning|    0.07|         4.58|      1.16|   2.8|          1.3|\n",
      "| 2.Late Morning|    0.05|         5.23|      1.79|  3.81|          1.7|\n",
      "+---------------+--------+-------------+----------+------+-------------+\n",
      "\n"
     ]
    },
    {
     "name": "stderr",
     "output_type": "stream",
     "text": [
      "\r",
      "                                                                                \r"
     ]
    }
   ],
   "source": [
    "display(Markdown(\"**Severity of Crime by Time of the day** (Order by 1.Severe):\"))\n",
    "\n",
    "SeverityCategorizationDF.groupBy(\"TimeSegment\")\\\n",
    "                        .pivot(\"CrimeSeverity\")\\\n",
    "                        .agg(count(\"CrimeSeverity\")/totalCrimes*100)\\\n",
    "                        .orderBy(col(\"`1.Severe`\").desc())\\\n",
    "                        .select(\"TimeSegment\",round(\"`1.Severe`\",2).alias(\"1.Severe\"),round(\"`2.Less Severe`\",2).alias(\"2.Less Severe\"),round(\"`3.Moderate`\",2).alias(\"3.Moderate\"),round(\"`4.Mild`\",2).alias(\"4.Mild\"),round(\"`5.Not Severe`\",2).alias(\"5. Not Severe\")).show()"
   ]
  },
  {
   "cell_type": "code",
   "execution_count": 98,
   "id": "8f2e2830",
   "metadata": {},
   "outputs": [
    {
     "data": {
      "text/markdown": [
       "**Severity of Crime by Time of the day** (Order by 3.Moderate):"
      ],
      "text/plain": [
       "<IPython.core.display.Markdown object>"
      ]
     },
     "metadata": {},
     "output_type": "display_data"
    },
    {
     "name": "stderr",
     "output_type": "stream",
     "text": [
      "\r",
      "[Stage 397:===============================>                     (120 + 2) / 200]\r"
     ]
    },
    {
     "name": "stdout",
     "output_type": "stream",
     "text": [
      "+---------------+--------+-------------+----------+------+-------------+\n",
      "|    TimeSegment|1.Severe|2.Less Severe|3.Moderate|4.Mild|5. Not Severe|\n",
      "+---------------+--------+-------------+----------+------+-------------+\n",
      "|      4.Evening|    0.14|        10.68|      4.28|  8.52|         3.18|\n",
      "|    3.Afternoon|    0.09|         7.86|      2.67|  4.86|         2.27|\n",
      "|        5.Night|     0.2|         8.27|      2.43|  7.21|         2.01|\n",
      "| 2.Late Morning|    0.05|         5.23|      1.79|  3.81|          1.7|\n",
      "|         6.Dawn|    0.26|         5.65|      1.21|  4.41|          1.3|\n",
      "|1.Early Morning|    0.07|         4.58|      1.16|   2.8|          1.3|\n",
      "+---------------+--------+-------------+----------+------+-------------+\n",
      "\n"
     ]
    },
    {
     "name": "stderr",
     "output_type": "stream",
     "text": [
      "\r",
      "                                                                                \r"
     ]
    }
   ],
   "source": [
    "display(Markdown(\"**Severity of Crime by Time of the day** (Order by 3.Moderate):\"))\n",
    "\n",
    "#,col(\"`2.Less Severe`\").desc(),col(\"`3.Moderate`\").desc(),col(\"`4.Mild`\").desc(),col(\"`5.Not Severe`\").desc()\n",
    "\n",
    "SeverityCategorizationDF.groupBy(\"TimeSegment\")\\\n",
    "                        .pivot(\"CrimeSeverity\")\\\n",
    "                        .agg(count(\"CrimeSeverity\")/totalCrimes*100)\\\n",
    "                        .orderBy(col(\"`3.Moderate`\").desc())\\\n",
    "                        .select(\"TimeSegment\",round(\"`1.Severe`\",2).alias(\"1.Severe\"),round(\"`2.Less Severe`\",2).alias(\"2.Less Severe\"),round(\"`3.Moderate`\",2).alias(\"3.Moderate\"),round(\"`4.Mild`\",2).alias(\"4.Mild\"),round(\"`5.Not Severe`\",2).alias(\"5. Not Severe\")).show()"
   ]
  },
  {
   "cell_type": "code",
   "execution_count": 99,
   "id": "491790ed",
   "metadata": {},
   "outputs": [
    {
     "data": {
      "text/markdown": [
       "**Severity of Crime by Time of the day** (Order by 5.Not Severe):"
      ],
      "text/plain": [
       "<IPython.core.display.Markdown object>"
      ]
     },
     "metadata": {},
     "output_type": "display_data"
    },
    {
     "name": "stderr",
     "output_type": "stream",
     "text": [
      "\r",
      "[Stage 403:================================================>    (183 + 2) / 200]\r"
     ]
    },
    {
     "name": "stdout",
     "output_type": "stream",
     "text": [
      "+---------------+--------+-------------+----------+------+-------------+\n",
      "|    TimeSegment|1.Severe|2.Less Severe|3.Moderate|4.Mild|5. Not Severe|\n",
      "+---------------+--------+-------------+----------+------+-------------+\n",
      "|      4.Evening|    0.14|        10.68|      4.28|  8.52|         3.18|\n",
      "|    3.Afternoon|    0.09|         7.86|      2.67|  4.86|         2.27|\n",
      "|        5.Night|     0.2|         8.27|      2.43|  7.21|         2.01|\n",
      "| 2.Late Morning|    0.05|         5.23|      1.79|  3.81|          1.7|\n",
      "|         6.Dawn|    0.26|         5.65|      1.21|  4.41|          1.3|\n",
      "|1.Early Morning|    0.07|         4.58|      1.16|   2.8|          1.3|\n",
      "+---------------+--------+-------------+----------+------+-------------+\n",
      "\n"
     ]
    },
    {
     "name": "stderr",
     "output_type": "stream",
     "text": [
      "\r",
      "                                                                                \r"
     ]
    }
   ],
   "source": [
    "display(Markdown(\"**Severity of Crime by Time of the day** (Order by 5.Not Severe):\"))\n",
    "\n",
    "SeverityCategorizationDF.groupBy(\"TimeSegment\")\\\n",
    "                        .pivot(\"CrimeSeverity\")\\\n",
    "                        .agg(count(\"CrimeSeverity\")/totalCrimes*100)\\\n",
    "                        .orderBy(col(\"`5.Not Severe`\").desc())\\\n",
    "                        .select(\"TimeSegment\",round(\"`1.Severe`\",2).alias(\"1.Severe\"),round(\"`2.Less Severe`\",2).alias(\"2.Less Severe\"),round(\"`3.Moderate`\",2).alias(\"3.Moderate\"),round(\"`4.Mild`\",2).alias(\"4.Mild\"),round(\"`5.Not Severe`\",2).alias(\"5. Not Severe\")).show()"
   ]
  },
  {
   "cell_type": "code",
   "execution_count": 100,
   "id": "4f3703a6",
   "metadata": {},
   "outputs": [
    {
     "data": {
      "text/markdown": [
       "**Severity of Crime by Year**"
      ],
      "text/plain": [
       "<IPython.core.display.Markdown object>"
      ]
     },
     "metadata": {},
     "output_type": "display_data"
    },
    {
     "name": "stderr",
     "output_type": "stream",
     "text": [
      "\r",
      "[Stage 409:==========================================>          (160 + 2) / 200]\r"
     ]
    },
    {
     "name": "stdout",
     "output_type": "stream",
     "text": [
      "+----+--------+-------------+----------+------+------------+\n",
      "|Year|1.Severe|2.Less Severe|3.Moderate|4.Mild|5.Not Severe|\n",
      "+----+--------+-------------+----------+------+------------+\n",
      "|2021|      84|          563|        23|    92|         393|\n",
      "|2020|     251|         2743|       472|   839|        1351|\n",
      "|2019|    1465|        72225|     25451| 58363|       20893|\n",
      "|2018|    1628|        77831|     26428| 59995|       21827|\n",
      "|2017|    1698|        79117|     25716| 59495|       21119|\n",
      "|2016|    1638|        77376|     26710| 57828|       20427|\n",
      "|2015|    1591|        75016|     27015| 55134|       19834|\n",
      "|2014|    1309|        66160|     23876| 52535|       19467|\n",
      "|2013|    1072|        67832|     22962| 50144|       18877|\n",
      "|2012|    1227|        71033|     22467| 52361|       20390|\n",
      "|2011|    1091|        71617|     20186| 51957|       20357|\n",
      "|2010|    1158|        76249|     15020| 52953|       20326|\n",
      "+----+--------+-------------+----------+------+------------+\n",
      "\n"
     ]
    },
    {
     "name": "stderr",
     "output_type": "stream",
     "text": [
      "\r",
      "                                                                                \r"
     ]
    }
   ],
   "source": [
    "display(Markdown(\"**Severity of Crime by Year**\"))\n",
    "\n",
    "SeverityCategorizationDF.groupBy(\"Year\")\\\n",
    "                        .pivot(\"CrimeSeverity\")\\\n",
    "                        .agg(count(\"CrimeSeverity\"))\\\n",
    "                        .orderBy(col(\"Year\").desc())\\\n",
    "                        .show()"
   ]
  },
  {
   "cell_type": "markdown",
   "id": "c28a2d01",
   "metadata": {},
   "source": [
    "### Conclusion:\n",
    "\\\n",
    "With this results we can conclude that there is a tendency of having severe crimes ocurre during dawn and night, moderate and not severre crimes ocurre during the evening or the afternoon leaving the morning as the safest time of the day.\\\n",
    "\\\n",
    "We can also conclude that crimes have mantained constant during the last decade having an exception in 2020 mostly related to covid impact. "
   ]
  },
  {
   "cell_type": "markdown",
   "id": "8baf246b",
   "metadata": {},
   "source": [
    "### B. Is there Age, Gender or Race Discrimination by Crime Severity?"
   ]
  },
  {
   "cell_type": "markdown",
   "id": "b0f474c3",
   "metadata": {},
   "source": [
    "**B.1 Gender**"
   ]
  },
  {
   "cell_type": "code",
   "execution_count": 101,
   "id": "af98048d",
   "metadata": {},
   "outputs": [
    {
     "name": "stdout",
     "output_type": "stream",
     "text": [
      "Total Crimes towards Male 862581\n",
      "Total Crimes towards Female 876564\n",
      "Ratio Male/Women: 0.9840479417361425\n"
     ]
    }
   ],
   "source": [
    "TotalCrimeMale = df_sample.where(col(\"Vict Sex\")==\"M\").count()\n",
    "\n",
    "TotalCrimeFemale = df_sample.where(col(\"Vict Sex\")==\"F\").count()\n",
    "\n",
    "print(\"Total Crimes towards Male\",TotalCrimeMale)\n",
    "print(\"Total Crimes towards Female\", TotalCrimeFemale)\n",
    "print(\"Ratio Male/Women:\", TotalCrimeMale/TotalCrimeFemale)"
   ]
  },
  {
   "cell_type": "code",
   "execution_count": 102,
   "id": "30917201",
   "metadata": {},
   "outputs": [
    {
     "data": {
      "text/markdown": [
       "**Severity of Crime by Gender** (MALE):"
      ],
      "text/plain": [
       "<IPython.core.display.Markdown object>"
      ]
     },
     "metadata": {},
     "output_type": "display_data"
    },
    {
     "name": "stdout",
     "output_type": "stream",
     "text": [
      "+-------------+-----------------+------------+\n",
      "|CrimeSeverity|TotalCrimesGender|RoundedRatio|\n",
      "+-------------+-----------------+------------+\n",
      "|     1.Severe|             2457|        0.28|\n",
      "|2.Less Severe|           416118|       48.24|\n",
      "|   3.Moderate|           129574|       15.02|\n",
      "| 5.Not Severe|            71889|        8.33|\n",
      "|       4.Mild|           242543|       28.12|\n",
      "+-------------+-----------------+------------+\n",
      "\n"
     ]
    },
    {
     "data": {
      "text/markdown": [
       "With total crimes of **862581**."
      ],
      "text/plain": [
       "<IPython.core.display.Markdown object>"
      ]
     },
     "metadata": {},
     "output_type": "display_data"
    }
   ],
   "source": [
    "from pyspark.sql.functions import max, min, avg, stddev\n",
    "\n",
    "TotalCrimeMale = df_sample.where(col(\"Vict Sex\")==\"M\").count()\n",
    "\n",
    "display(Markdown(\"**Severity of Crime by Gender** (MALE):\"))\n",
    "SeverityCategorizationDF.where(col(\"Vict Sex\")==\"M\")\\\n",
    "              .groupBy(\"CrimeSeverity\")\\\n",
    "              .agg(count(\"CrimeSeverity\").alias(\"TotalCrimesGender\"), \\\n",
    "                  (count(\"CrimeSeverity\")/TotalCrimeMale*100).alias(\"Ratio\"))\\\n",
    "               .select(\"CrimeSeverity\",\"TotalCrimesGender\",round(\"Ratio\",2).alias(\"RoundedRatio\")).show()\n",
    "\n",
    "display(Markdown(\"With total crimes of **%d**.\" % TotalCrimeMale))"
   ]
  },
  {
   "cell_type": "code",
   "execution_count": 103,
   "id": "89b69f63",
   "metadata": {},
   "outputs": [
    {
     "data": {
      "text/markdown": [
       "**Severity of Crime by Gender** (FEMALE):"
      ],
      "text/plain": [
       "<IPython.core.display.Markdown object>"
      ]
     },
     "metadata": {},
     "output_type": "display_data"
    },
    {
     "name": "stdout",
     "output_type": "stream",
     "text": [
      "+-------------+-----------------+------------+\n",
      "|CrimeSeverity|TotalCrimesGender|RoundedRatio|\n",
      "+-------------+-----------------+------------+\n",
      "|     1.Severe|            11753|        1.36|\n",
      "|2.Less Severe|           319764|       37.07|\n",
      "|   3.Moderate|           104873|       12.16|\n",
      "| 5.Not Severe|           132692|       15.38|\n",
      "|       4.Mild|           307482|       35.65|\n",
      "+-------------+-----------------+------------+\n",
      "\n"
     ]
    },
    {
     "data": {
      "text/markdown": [
       "With total crimes of **876564**."
      ],
      "text/plain": [
       "<IPython.core.display.Markdown object>"
      ]
     },
     "metadata": {},
     "output_type": "display_data"
    }
   ],
   "source": [
    "from pyspark.sql.functions import max, min, avg, stddev\n",
    "\n",
    "display(Markdown(\"**Severity of Crime by Gender** (FEMALE):\"))\n",
    "SeverityCategorizationDF.where(col(\"Vict Sex\")==\"F\")\\\n",
    "              .groupBy(\"CrimeSeverity\")\\\n",
    "              .agg(count(\"CrimeSeverity\").alias(\"TotalCrimesGender\"), \\\n",
    "                  (count(\"CrimeSeverity\")/TotalCrimeMale*100).alias(\"Ratio\"))\\\n",
    "               .select(\"CrimeSeverity\",\"TotalCrimesGender\",round(\"Ratio\",2).alias(\"RoundedRatio\")).show()\n",
    "\n",
    "display(Markdown(\"With total crimes of **%d**.\" % TotalCrimeFemale))"
   ]
  },
  {
   "cell_type": "code",
   "execution_count": 133,
   "id": "fc89fe8b",
   "metadata": {},
   "outputs": [
    {
     "data": {
      "text/markdown": [
       "**Most Common Crimes by Sex**"
      ],
      "text/plain": [
       "<IPython.core.display.Markdown object>"
      ]
     },
     "metadata": {},
     "output_type": "display_data"
    },
    {
     "name": "stderr",
     "output_type": "stream",
     "text": [
      "[Stage 574:=============================================>       (173 + 2) / 200]\r"
     ]
    },
    {
     "name": "stdout",
     "output_type": "stream",
     "text": [
      "+--------------------------------------------------------+-----+----+------+\n",
      "|Crm Cd Desc                                             |F    |M   |Ratio |\n",
      "+--------------------------------------------------------+-----+----+------+\n",
      "|RAPE, FORCIBLE                                          |10293|86  |119.69|\n",
      "|RAPE, ATTEMPTED                                         |1092 |13  |84.0  |\n",
      "|HUMAN TRAFFICKING - COMMERCIAL SEX ACTS                 |465  |7   |66.43 |\n",
      "|PIMPING                                                 |449  |8   |56.13 |\n",
      "|PURSE SNATCHING - ATTEMPT                               |45   |2   |22.5  |\n",
      "|PURSE SNATCHING                                         |1115 |63  |17.7  |\n",
      "|HUMAN TRAFFICKING - INVOLUNTARY SERVITUDE               |91   |6   |15.17 |\n",
      "|BATTERY WITH SEXUAL CONTACT                             |10322|925 |11.16 |\n",
      "|PEEPING TOM                                             |1048 |103 |10.17 |\n",
      "|SEXUAL PENETRATION W/FOREIGN OBJECT                     |2463 |244 |10.09 |\n",
      "|SEX,UNLAWFUL(INC MUTUAL CONSENT, PENETRATION W/ FRGN OBJ|3927 |453 |8.67  |\n",
      "|STALKING                                                |1564 |252 |6.21  |\n",
      "|KIDNAPPING - GRAND ATTEMPT                              |582  |97  |6.0   |\n",
      "|CRM AGNST CHLD (13 OR UNDER) (14-15 & SUSP 10 YRS OLDER)|7196 |1425|5.05  |\n",
      "|CHILD ANNOYING (17YRS & UNDER)                          |4251 |842 |5.05  |\n",
      "|LEWD/LASCIVIOUS ACTS WITH CHILD                         |203  |41  |4.95  |\n",
      "|LEWD CONDUCT                                            |1081 |236 |4.58  |\n",
      "|INDECENT EXPOSURE                                       |2788 |610 |4.57  |\n",
      "|INCEST (SEXUAL ACTS BETWEEN BLOOD RELATIVES)            |9    |2   |4.5   |\n",
      "|PANDERING                                               |136  |32  |4.25  |\n",
      "+--------------------------------------------------------+-----+----+------+\n",
      "only showing top 20 rows\n",
      "\n"
     ]
    },
    {
     "name": "stderr",
     "output_type": "stream",
     "text": [
      "\r",
      "                                                                                \r"
     ]
    }
   ],
   "source": [
    "import pyspark.sql.functions as F\n",
    "\n",
    "display(Markdown(\"**Most Common Crimes by Sex**\"))\n",
    "\n",
    "SeverityCategorizationDF.where((col(\"Vict Sex\")==\"F\") | (col(\"Vict Sex\")==\"M\"))\\\n",
    "                        .groupBy(\"Crm Cd Desc\")\\\n",
    "                        .pivot(\"Vict Sex\")\\\n",
    "                        .agg(count(\"Vict Sex\"))\\\n",
    "                        .withColumn(\"F/M ratio\",F.col(\"F\")/F.col(\"M\"))\\\n",
    "                        .orderBy(col(\"F/M ratio\").desc())\\\n",
    "                        .select(\"Crm Cd Desc\",\"F\",\"M\",round(\"F/M ratio\",2).alias(\"Ratio\")).show(truncate = False)"
   ]
  },
  {
   "cell_type": "markdown",
   "id": "fe66cd6f",
   "metadata": {},
   "source": [
    "### B.1 Conclusion:\n",
    "\\\n",
    "Although there does not seem to be discrimination by gender in general terms, when looking at the specific severnes of the crimes female are almost 100 times more likely to be victims of severe crime than men."
   ]
  },
  {
   "cell_type": "markdown",
   "id": "1cfa1627",
   "metadata": {},
   "source": [
    "**B.2 Age**"
   ]
  },
  {
   "cell_type": "code",
   "execution_count": 105,
   "id": "61273fb3",
   "metadata": {},
   "outputs": [
    {
     "data": {
      "text/markdown": [
       "**Severity of Crime by Age**"
      ],
      "text/plain": [
       "<IPython.core.display.Markdown object>"
      ]
     },
     "metadata": {},
     "output_type": "display_data"
    },
    {
     "name": "stderr",
     "output_type": "stream",
     "text": [
      "\r",
      "[Stage 443:============================>                            (2 + 2) / 4]\r"
     ]
    },
    {
     "name": "stdout",
     "output_type": "stream",
     "text": [
      "+-------------+------------------+---------+----------+------------------+\n",
      "|CrimeSeverity|        AverageAge|LowestAge|HighestAge|         StdDevAge|\n",
      "+-------------+------------------+---------+----------+------------------+\n",
      "|     1.Severe|28.372924289332957|        2|        99|13.565644280848735|\n",
      "|2.Less Severe|40.034988248242655|        2|       118| 16.07433332879085|\n",
      "|   3.Moderate|38.935927489992636|        2|        99|15.670289478608785|\n",
      "|       4.Mild|37.749494286708625|        2|        99|15.612719071862905|\n",
      "| 5.Not Severe| 35.18754658702822|        2|        99| 16.73079112178732|\n",
      "+-------------+------------------+---------+----------+------------------+\n",
      "\n"
     ]
    },
    {
     "name": "stderr",
     "output_type": "stream",
     "text": [
      "\r",
      "                                                                                \r"
     ]
    }
   ],
   "source": [
    "from pyspark.sql.functions import max, min, avg, stddev\n",
    "\n",
    "display(Markdown(\"**Severity of Crime by Age**\"))\n",
    "SeverityCategorizationDF.groupBy(\"CrimeSeverity\")\\\n",
    "              .agg(avg(\"Vict Age\").alias(\"AverageAge\"),\\\n",
    "                   min(\"Vict Age\").alias(\"LowestAge\"),\\\n",
    "                   max(\"Vict Age\").alias(\"HighestAge\"),\\\n",
    "                   stddev(\"Vict Age\").alias(\"StdDevAge\"))\\\n",
    "              .orderBy(\"CrimeSeverity\").show()"
   ]
  },
  {
   "cell_type": "code",
   "execution_count": 106,
   "id": "7fc7b968",
   "metadata": {},
   "outputs": [
    {
     "data": {
      "text/markdown": [
       "**Severity of Crime by Age Segmentation**"
      ],
      "text/plain": [
       "<IPython.core.display.Markdown object>"
      ]
     },
     "metadata": {},
     "output_type": "display_data"
    },
    {
     "name": "stderr",
     "output_type": "stream",
     "text": [
      "                                                                                \r"
     ]
    },
    {
     "name": "stdout",
     "output_type": "stream",
     "text": [
      "+-------+--------+-------------+----------+------+------------+\n",
      "|Age_Seg|1.Severe|2.Less Severe|3.Moderate|4.Mild|5.Not Severe|\n",
      "+-------+--------+-------------+----------+------+------------+\n",
      "|   0-17|    2843|        27029|      8180| 31902|       33816|\n",
      "|  18-24|    4023|       101649|     38421| 88299|       26006|\n",
      "|  25-34|    3546|       187816|     62477|145806|       46547|\n",
      "|  35-44|    1841|       151090|     46787|108587|       39688|\n",
      "|  45-54|    1208|       126814|     38733| 90976|       31603|\n",
      "|  55-64|     536|        84670|     25447| 55171|       17548|\n",
      "|    65+|     215|        58694|     16281| 30955|       10053|\n",
      "+-------+--------+-------------+----------+------+------------+\n",
      "\n"
     ]
    },
    {
     "name": "stderr",
     "output_type": "stream",
     "text": [
      "\r",
      "[Stage 452:============================================>        (169 + 2) / 200]\r",
      "\r",
      "                                                                                \r"
     ]
    }
   ],
   "source": [
    "from pyspark.sql.functions import count, round\n",
    "\n",
    "# Age Segmentation:\n",
    "#\n",
    "#   [0-18)\n",
    "#   [18-25)\n",
    "#   [25-35)\n",
    "#   [35-45)\n",
    "#   [45-55)\n",
    "#   [55-65)\n",
    "#   [65 and older\n",
    "\n",
    "\n",
    "\n",
    "\n",
    "# 1. Let's enrich the DF with our categorization\n",
    "totalCrimes = df_sample.count()\n",
    "SeverityCategorizationDF = SeverityCategorizationDF.withColumn(\"Age_Seg\", when(col(\"Vict Age\")<18,\"0-17\")\\\n",
    "                               .when((col(\"Vict Age\")>=18) & (col(\"Vict Age\")<25),\"18-24\")\\\n",
    "                               .when((col(\"Vict Age\")>=25) & (col(\"Vict Age\")<35),\"25-34\")\\\n",
    "                               .when((col(\"Vict Age\")>=35) & (col(\"Vict Age\")<45),\"35-44\")\\\n",
    "                               .when((col(\"Vict Age\")>=45) & (col(\"Vict Age\")<55),\"45-54\")\\\n",
    "                               .when((col(\"Vict Age\")>=55) & (col(\"Vict Age\")<65),\"55-64\")\\\n",
    "                               .otherwise(\"65+\"))\n",
    "SeverityCategorizationDF.cache() # optimization to make the processing faster\n",
    "\n",
    "# 2. Ready to answer to this business question\n",
    "display(Markdown(\"**Severity of Crime by Age Segmentation**\"))\n",
    "\n",
    "SeverityCategorizationDF.groupBy(\"Age_Seg\")\\\n",
    "                        .pivot(\"CrimeSeverity\")\\\n",
    "                        .agg(count(\"CrimeSeverity\"))\\\n",
    "                        .orderBy(col(\"Age_Seg\"))\\\n",
    "                        .show()"
   ]
  },
  {
   "cell_type": "code",
   "execution_count": 134,
   "id": "f108b032",
   "metadata": {},
   "outputs": [
    {
     "data": {
      "text/markdown": [
       "**Severity of Crime by Age** (Order by 1.Severe):"
      ],
      "text/plain": [
       "<IPython.core.display.Markdown object>"
      ]
     },
     "metadata": {},
     "output_type": "display_data"
    },
    {
     "name": "stderr",
     "output_type": "stream",
     "text": [
      "\r",
      "[Stage 579:=================================================>   (188 + 2) / 200]\r"
     ]
    },
    {
     "name": "stdout",
     "output_type": "stream",
     "text": [
      "+-------+--------+-------------+----------+------+-------------+\n",
      "|Age_Seg|1.Severe|2.Less Severe|3.Moderate|4.Mild|5. Not Severe|\n",
      "+-------+--------+-------------+----------+------+-------------+\n",
      "|  18-24|    0.23|         5.82|       2.2|  5.06|         1.49|\n",
      "|  25-34|     0.2|        10.76|      3.58|  8.35|         2.67|\n",
      "|   0-17|    0.16|         1.55|      0.47|  1.83|         1.94|\n",
      "|  35-44|    0.11|         8.66|      2.68|  6.22|         2.27|\n",
      "|  45-54|    0.07|         7.27|      2.22|  5.21|         1.81|\n",
      "|  55-64|    0.03|         4.85|      1.46|  3.16|         1.01|\n",
      "|    65+|    0.01|         3.36|      0.93|  1.77|         0.58|\n",
      "+-------+--------+-------------+----------+------+-------------+\n",
      "\n"
     ]
    },
    {
     "name": "stderr",
     "output_type": "stream",
     "text": [
      "\r",
      "[Stage 580:====================================================>(198 + 2) / 200]\r",
      "\r",
      "                                                                                \r"
     ]
    }
   ],
   "source": [
    "display(Markdown(\"**Severity of Crime by Age** (Order by 1.Severe):\"))\n",
    "SeverityCategorizationDF.groupBy(\"Age_Seg\")\\\n",
    "                        .pivot(\"CrimeSeverity\")\\\n",
    "                        .agg(count(\"CrimeSeverity\")/totalCrimes*100)\\\n",
    "                        .orderBy(col(\"`1.Severe`\").desc())\\\n",
    "                        .select(\"Age_Seg\",round(\"`1.Severe`\",2).alias(\"1.Severe\"),round(\"`2.Less Severe`\",2).alias(\"2.Less Severe\"),round(\"`3.Moderate`\",2).alias(\"3.Moderate\"),round(\"`4.Mild`\",2).alias(\"4.Mild\"),round(\"`5.Not Severe`\",2).alias(\"5. Not Severe\")).show()"
   ]
  },
  {
   "cell_type": "code",
   "execution_count": 108,
   "id": "2c6f6031",
   "metadata": {},
   "outputs": [
    {
     "data": {
      "text/markdown": [
       "**Severity of Crime by Age** (Order by 3.Moderate):"
      ],
      "text/plain": [
       "<IPython.core.display.Markdown object>"
      ]
     },
     "metadata": {},
     "output_type": "display_data"
    },
    {
     "name": "stderr",
     "output_type": "stream",
     "text": [
      "\r",
      "[Stage 463:==============================================>      (176 + 2) / 200]\r"
     ]
    },
    {
     "name": "stdout",
     "output_type": "stream",
     "text": [
      "+-------+--------+-------------+----------+------+-------------+\n",
      "|Age_Seg|1.Severe|2.Less Severe|3.Moderate|4.Mild|5. Not Severe|\n",
      "+-------+--------+-------------+----------+------+-------------+\n",
      "|  25-34|     0.2|        10.76|      3.58|  8.35|         2.67|\n",
      "|  35-44|    0.11|         8.66|      2.68|  6.22|         2.27|\n",
      "|  45-54|    0.07|         7.27|      2.22|  5.21|         1.81|\n",
      "|  18-24|    0.23|         5.82|       2.2|  5.06|         1.49|\n",
      "|  55-64|    0.03|         4.85|      1.46|  3.16|         1.01|\n",
      "|    65+|    0.01|         3.36|      0.93|  1.77|         0.58|\n",
      "|   0-17|    0.16|         1.55|      0.47|  1.83|         1.94|\n",
      "+-------+--------+-------------+----------+------+-------------+\n",
      "\n"
     ]
    },
    {
     "name": "stderr",
     "output_type": "stream",
     "text": [
      "\r",
      "[Stage 464:===============================================>     (180 + 2) / 200]\r",
      "\r",
      "                                                                                \r"
     ]
    }
   ],
   "source": [
    "display(Markdown(\"**Severity of Crime by Age** (Order by 3.Moderate):\"))\n",
    "SeverityCategorizationDF.groupBy(\"Age_Seg\")\\\n",
    "                        .pivot(\"CrimeSeverity\")\\\n",
    "                        .agg(count(\"CrimeSeverity\")/totalCrimes*100)\\\n",
    "                        .orderBy(col(\"`3.Moderate`\").desc())\\\n",
    "                        .select(\"Age_Seg\",round(\"`1.Severe`\",2).alias(\"1.Severe\"),round(\"`2.Less Severe`\",2).alias(\"2.Less Severe\"),round(\"`3.Moderate`\",2).alias(\"3.Moderate\"),round(\"`4.Mild`\",2).alias(\"4.Mild\"),round(\"`5.Not Severe`\",2).alias(\"5. Not Severe\")).show()"
   ]
  },
  {
   "cell_type": "code",
   "execution_count": 135,
   "id": "35f3cb51",
   "metadata": {},
   "outputs": [
    {
     "data": {
      "text/markdown": [
       "**Severity of Crime by Age** (Order by 5.Not Severe):"
      ],
      "text/plain": [
       "<IPython.core.display.Markdown object>"
      ]
     },
     "metadata": {},
     "output_type": "display_data"
    },
    {
     "name": "stderr",
     "output_type": "stream",
     "text": [
      "\r",
      "[Stage 585:====================================================>(197 + 3) / 200]\r"
     ]
    },
    {
     "name": "stdout",
     "output_type": "stream",
     "text": [
      "+-------+--------+-------------+----------+------+-------------+\n",
      "|Age_Seg|1.Severe|2.Less Severe|3.Moderate|4.Mild|5. Not Severe|\n",
      "+-------+--------+-------------+----------+------+-------------+\n",
      "|  25-34|     0.2|        10.76|      3.58|  8.35|         2.67|\n",
      "|  35-44|    0.11|         8.66|      2.68|  6.22|         2.27|\n",
      "|   0-17|    0.16|         1.55|      0.47|  1.83|         1.94|\n",
      "|  45-54|    0.07|         7.27|      2.22|  5.21|         1.81|\n",
      "|  18-24|    0.23|         5.82|       2.2|  5.06|         1.49|\n",
      "|  55-64|    0.03|         4.85|      1.46|  3.16|         1.01|\n",
      "|    65+|    0.01|         3.36|      0.93|  1.77|         0.58|\n",
      "+-------+--------+-------------+----------+------+-------------+\n",
      "\n"
     ]
    },
    {
     "name": "stderr",
     "output_type": "stream",
     "text": [
      "\r",
      "                                                                                \r"
     ]
    }
   ],
   "source": [
    "display(Markdown(\"**Severity of Crime by Age** (Order by 5.Not Severe):\"))\n",
    "SeverityCategorizationDF.groupBy(\"Age_Seg\")\\\n",
    "                        .pivot(\"CrimeSeverity\")\\\n",
    "                        .agg(count(\"CrimeSeverity\")/totalCrimes*100)\\\n",
    "                        .orderBy(col(\"`5.Not Severe`\").desc())\\\n",
    "                        .select(\"Age_Seg\",round(\"`1.Severe`\",2).alias(\"1.Severe\"),round(\"`2.Less Severe`\",2).alias(\"2.Less Severe\"),round(\"`3.Moderate`\",2).alias(\"3.Moderate\"),round(\"`4.Mild`\",2).alias(\"4.Mild\"),round(\"`5.Not Severe`\",2).alias(\"5. Not Severe\")).show()"
   ]
  },
  {
   "cell_type": "markdown",
   "id": "d33549dc",
   "metadata": {},
   "source": [
    "### B.2 Conclusion:\n",
    "\\\n",
    "Babies and Teenagers seem to be propense to be victims of severe crimes in comparison to other ages, while adults between 25 and 34 are the most common victims of moderate and not severe crimes."
   ]
  },
  {
   "cell_type": "markdown",
   "id": "883b7e5d",
   "metadata": {},
   "source": [
    "**B.3 Race**"
   ]
  },
  {
   "cell_type": "code",
   "execution_count": 110,
   "id": "a1470b2b",
   "metadata": {},
   "outputs": [
    {
     "data": {
      "text/markdown": [
       "**Severity of Crime by Race**"
      ],
      "text/plain": [
       "<IPython.core.display.Markdown object>"
      ]
     },
     "metadata": {},
     "output_type": "display_data"
    },
    {
     "name": "stderr",
     "output_type": "stream",
     "text": [
      "[Stage 475:=============================================>       (171 + 2) / 200]\r"
     ]
    },
    {
     "name": "stdout",
     "output_type": "stream",
     "text": [
      "+------------------------------+--------+-------------+----------+------+------------+\n",
      "|Race Desc                     |1.Severe|2.Less Severe|3.Moderate|4.Mild|5.Not Severe|\n",
      "+------------------------------+--------+-------------+----------+------+------------+\n",
      "|Hispanic/Latin/Mexican        |6137    |273862       |84340     |245941|94060       |\n",
      "|Black                         |3736    |126661       |35671     |122643|40774       |\n",
      "|White                         |3234    |220433       |74746     |119904|48930       |\n",
      "|Other                         |698     |79429        |25343     |43978 |15325       |\n",
      "|Other Asian                   |297     |25768        |8447      |12044 |3519        |\n",
      "|Korean                        |42      |4389         |1022      |2487  |696         |\n",
      "|Filipino                      |27      |1150         |393       |696   |273         |\n",
      "|Unknown                       |21      |4582         |5502      |3274  |1440        |\n",
      "|American Indian/Alaskan Native|8       |309          |321       |203   |69          |\n",
      "|Chinese                       |5       |488          |271       |230   |58          |\n",
      "|Japanese                      |2       |209          |86        |87    |27          |\n",
      "|Hawaiian                      |2       |96           |13        |24    |13          |\n",
      "|Pacific Islander              |1       |171          |49        |80    |36          |\n",
      "|Vietnamese                    |1       |106          |55        |27    |14          |\n",
      "|Guamanian                     |1       |30           |5         |36    |10          |\n",
      "|Asian Indian                  |null    |54           |45        |25    |8           |\n",
      "|Samoan                        |null    |13           |7         |7     |2           |\n",
      "|Cambodian                     |null    |8            |5         |5     |4           |\n",
      "|Laotian                       |null    |4            |5         |5     |3           |\n",
      "+------------------------------+--------+-------------+----------+------+------------+\n",
      "\n"
     ]
    },
    {
     "name": "stderr",
     "output_type": "stream",
     "text": [
      "\r",
      "[Stage 476:===================================================> (194 + 2) / 200]\r",
      "\r",
      "                                                                                \r"
     ]
    }
   ],
   "source": [
    "display(Markdown(\"**Severity of Crime by Race**\"))\n",
    "\n",
    "#Descent Code: \n",
    "#A - Other Asian \n",
    "#B - Black \n",
    "#C - Chinese \n",
    "#D - Cambodian \n",
    "#F - Filipino \n",
    "#G - Guamanian \n",
    "#H - Hispanic/Latin/Mexican \n",
    "#I - American Indian/Alaskan Native \n",
    "#J - Japanese \n",
    "#K - Korean \n",
    "#L - Laotian \n",
    "#O - Other \n",
    "#P - Pacific Islander \n",
    "#S - Samoan \n",
    "#U - Hawaiian \n",
    "#V - Vietnamese \n",
    "#W - White \n",
    "#X - Unknown \n",
    "#Z - Asian Indian.\n",
    "\n",
    "\n",
    "# 1. Let's enrich the DF with our categorization\n",
    "SeverityCategorizationDF = SeverityCategorizationDF.withColumn(\"Race Desc\", when(col(\"Vict Descent\")==\"A\",\"Other Asian\")\\\n",
    "                               .when(col(\"Vict Descent\")==\"B\",\"Black\")\\\n",
    "                               .when(col(\"Vict Descent\")==\"C\",\"Chinese\")\\\n",
    "                               .when(col(\"Vict Descent\")==\"D\",\"Cambodian\")\\\n",
    "                               .when(col(\"Vict Descent\")==\"F\",\"Filipino\")\\\n",
    "                               .when(col(\"Vict Descent\")==\"G\",\"Guamanian\")\\\n",
    "                               .when(col(\"Vict Descent\")==\"H\",\"Hispanic/Latin/Mexican\")\\\n",
    "                               .when(col(\"Vict Descent\")==\"I\",\"American Indian/Alaskan Native\")\\\n",
    "                               .when(col(\"Vict Descent\")==\"J\",\"Japanese\")\\\n",
    "                               .when(col(\"Vict Descent\")==\"K\",\"Korean\")\\\n",
    "                               .when(col(\"Vict Descent\")==\"L\",\"Laotian\")\\\n",
    "                               .when(col(\"Vict Descent\")==\"O\",\"Other\")\\\n",
    "                               .when(col(\"Vict Descent\")==\"P\",\"Pacific Islander\")\\\n",
    "                               .when(col(\"Vict Descent\")==\"S\",\"Samoan\")\\\n",
    "                               .when(col(\"Vict Descent\")==\"U\",\"Hawaiian\")\\\n",
    "                               .when(col(\"Vict Descent\")==\"V\",\"Vietnamese\")\\\n",
    "                               .when(col(\"Vict Descent\")==\"W\",\"White\")\\\n",
    "                               .when(col(\"Vict Descent\")==\"Z\",\"Asian Indian\")\\\n",
    "                               .otherwise(\"Unknown\"))\n",
    "\n",
    "\n",
    "SeverityCategorizationDF.groupBy(\"Race Desc\")\\\n",
    "                        .pivot(\"CrimeSeverity\")\\\n",
    "                        .agg(count(\"CrimeSeverity\"))\\\n",
    "                        .orderBy(col(\"`1.Severe`\").desc(),col(\"`2.Less Severe`\").desc(),col(\"`3.Moderate`\").desc(),col(\"`4.Mild`\").desc(),col(\"`5.Not Severe`\").desc())\\\n",
    "                        .show(truncate = False)"
   ]
  },
  {
   "cell_type": "code",
   "execution_count": 111,
   "id": "51de2f49",
   "metadata": {},
   "outputs": [
    {
     "data": {
      "text/markdown": [
       "**Most Common Crimes against Hispanic/Latin/Mexican**"
      ],
      "text/plain": [
       "<IPython.core.display.Markdown object>"
      ]
     },
     "metadata": {},
     "output_type": "display_data"
    },
    {
     "name": "stderr",
     "output_type": "stream",
     "text": [
      "[Stage 479:============================>                            (2 + 2) / 4]\r"
     ]
    },
    {
     "name": "stdout",
     "output_type": "stream",
     "text": [
      "+--------------------------------------------------------+------------+-----+\n",
      "|Crm Cd Desc                                             |Total Crimes|Ratio|\n",
      "+--------------------------------------------------------+------------+-----+\n",
      "|BATTERY - SIMPLE ASSAULT                                |85095       |0.12 |\n",
      "|INTIMATE PARTNER - SIMPLE ASSAULT                       |58833       |0.08 |\n",
      "|BURGLARY FROM VEHICLE                                   |56708       |0.08 |\n",
      "|ASSAULT WITH DEADLY WEAPON, AGGRAVATED ASSAULT          |44261       |0.06 |\n",
      "|THEFT PLAIN - PETTY ($950 & UNDER)                      |42152       |0.06 |\n",
      "|ROBBERY                                                 |41705       |0.06 |\n",
      "|THEFT OF IDENTITY                                       |40544       |0.06 |\n",
      "|VANDALISM - FELONY ($400 & OVER, ALL CHURCH VANDALISMS) |37487       |0.05 |\n",
      "|BURGLARY                                                |35077       |0.05 |\n",
      "|VANDALISM - MISDEAMEANOR ($399 OR UNDER)                |32943       |0.05 |\n",
      "|CRIMINAL THREATS - NO WEAPON DISPLAYED                  |24571       |0.03 |\n",
      "|THEFT FROM MOTOR VEHICLE - PETTY ($950 & UNDER)         |22246       |0.03 |\n",
      "|THEFT-GRAND ($950.01 & OVER)EXCPT,GUNS,FOWL,LIVESTK,PROD|15502       |0.02 |\n",
      "|SHOPLIFTING - PETTY THEFT ($950 & UNDER)                |11051       |0.02 |\n",
      "|VIOLATION OF RESTRAINING ORDER                          |9728        |0.01 |\n",
      "|THEFT FROM MOTOR VEHICLE - GRAND ($400 AND OVER)        |9652        |0.01 |\n",
      "|VIOLATION OF COURT ORDER                                |9073        |0.01 |\n",
      "|LETTERS, LEWD  -  TELEPHONE CALLS, LEWD                 |7482        |0.01 |\n",
      "|BRANDISH WEAPON                                         |7447        |0.01 |\n",
      "|THEFT, PERSON                                           |7175        |0.01 |\n",
      "+--------------------------------------------------------+------------+-----+\n",
      "only showing top 20 rows\n",
      "\n"
     ]
    },
    {
     "name": "stderr",
     "output_type": "stream",
     "text": [
      "\r",
      "[Stage 480:==============================================>      (177 + 2) / 200]\r",
      "\r",
      "                                                                                \r"
     ]
    }
   ],
   "source": [
    "display(Markdown(\"**Most Common Crimes against Hispanic/Latin/Mexican**\"))\n",
    "\n",
    "TotalCrimeHisp = SeverityCategorizationDF.where(col(\"Race Desc\")==\"Hispanic/Latin/Mexican\").count()\n",
    "\n",
    "\n",
    "SeverityCategorizationDF.where(col(\"Race Desc\")==\"Hispanic/Latin/Mexican\")\\\n",
    "                        .groupBy(\"Crm Cd Desc\")\\\n",
    "                        .agg(count(\"Crm Cd Desc\").alias(\"Total Crimes\"))\\\n",
    "                        .orderBy(col(\"Total Crimes\").desc())\\\n",
    "                        .select(\"Crm Cd Desc\",\"Total Crimes\",round(col(\"Total Crimes\")/TotalCrimeHisp,2).alias(\"Ratio\")).show(truncate = False)"
   ]
  },
  {
   "cell_type": "code",
   "execution_count": 112,
   "id": "a288a70e",
   "metadata": {},
   "outputs": [
    {
     "data": {
      "text/markdown": [
       "**Most Common Area where Crimes ocurr against Hispanic/Latin/Mexican**"
      ],
      "text/plain": [
       "<IPython.core.display.Markdown object>"
      ]
     },
     "metadata": {},
     "output_type": "display_data"
    },
    {
     "name": "stdout",
     "output_type": "stream",
     "text": [
      "+-----------+------------+-----+\n",
      "|AREA NAME  |Total Crimes|Ratio|\n",
      "+-----------+------------+-----+\n",
      "|Mission    |57755       |0.08 |\n",
      "|Newton     |50934       |0.07 |\n",
      "|77th Street|49021       |0.07 |\n",
      "|Hollenbeck |47171       |0.07 |\n",
      "|Rampart    |44240       |0.06 |\n",
      "|Southeast  |42864       |0.06 |\n",
      "|Southwest  |40997       |0.06 |\n",
      "|Foothill   |38472       |0.05 |\n",
      "|Northeast  |36313       |0.05 |\n",
      "|Harbor     |36169       |0.05 |\n",
      "|Olympic    |35255       |0.05 |\n",
      "|N Hollywood|30272       |0.04 |\n",
      "|Central    |29317       |0.04 |\n",
      "|Van Nuys   |29268       |0.04 |\n",
      "|Topanga    |24567       |0.03 |\n",
      "|Devonshire |24251       |0.03 |\n",
      "|West Valley|23393       |0.03 |\n",
      "|Hollywood  |20087       |0.03 |\n",
      "|Wilshire   |18002       |0.03 |\n",
      "|Pacific    |16300       |0.02 |\n",
      "+-----------+------------+-----+\n",
      "only showing top 20 rows\n",
      "\n"
     ]
    }
   ],
   "source": [
    "display(Markdown(\"**Most Common Area where Crimes ocurr against Hispanic/Latin/Mexican**\"))\n",
    "\n",
    "TotalCrimeHisp = SeverityCategorizationDF.where(col(\"Race Desc\")==\"Hispanic/Latin/Mexican\").count()\n",
    "\n",
    "\n",
    "SeverityCategorizationDF.where(col(\"Race Desc\")==\"Hispanic/Latin/Mexican\")\\\n",
    "                        .groupBy(\"AREA NAME\")\\\n",
    "                        .agg(count(\"AREA NAME\").alias(\"Total Crimes\"))\\\n",
    "                        .orderBy(col(\"Total Crimes\").desc())\\\n",
    "                        .select(\"AREA NAME\",\"Total Crimes\",round(col(\"Total Crimes\")/TotalCrimeHisp,2).alias(\"Ratio\")).show(truncate = False)"
   ]
  },
  {
   "cell_type": "markdown",
   "id": "ba400fb5",
   "metadata": {},
   "source": [
    "### B.3 Conclusion:\n",
    "\\\n",
    "One of the most interesting insights is the fact that hispanics are the favorite race for crimes in LA, doubling the amount of crimes of the next race (Black) in all of the severness segment. They are victims of simple crimes like simple assaults to burglary from vehicle assault. The most common places where latins are victims of crime are Mission, Newton, 77th Street and Hollenbeck.\n",
    "\n",
    "\\\n",
    "Given that in our group we are mostly latins, we decided to go deeper and understand the motives"
   ]
  },
  {
   "cell_type": "markdown",
   "id": "ba6d72b9",
   "metadata": {},
   "source": [
    "# Motive"
   ]
  },
  {
   "cell_type": "markdown",
   "id": "08fcb689",
   "metadata": {},
   "source": [
    "To answer this question we had to search for the internaitonal codes for motives because our dataset did not have the description of the codes. Then we joined the data, did more feature engineering and decided to train a model to see if this features where enough to generate a reliable predictor to know if a crime was being committed to a hispanic or not."
   ]
  },
  {
   "cell_type": "code",
   "execution_count": 113,
   "id": "b808d60f",
   "metadata": {},
   "outputs": [],
   "source": [
    "Mocodes_df = spark.read \\\n",
    "                 .option(\"inferSchema\", \"true\") \\\n",
    "                 .option(\"header\", \"true\") \\\n",
    "                 .csv(\"MO_Codes.csv\")"
   ]
  },
  {
   "cell_type": "code",
   "execution_count": 114,
   "id": "45d01a16",
   "metadata": {},
   "outputs": [
    {
     "name": "stdout",
     "output_type": "stream",
     "text": [
      "root\n",
      " |-- MO_CODE: integer (nullable = true)\n",
      " |-- MO_DESCRIPTION: string (nullable = true)\n",
      "\n"
     ]
    },
    {
     "data": {
      "text/markdown": [
       "This DataFrame has **824 rows**."
      ],
      "text/plain": [
       "<IPython.core.display.Markdown object>"
      ]
     },
     "metadata": {},
     "output_type": "display_data"
    }
   ],
   "source": [
    "Mocodes_df.printSchema()\n",
    "display(Markdown(\"This DataFrame has **%d rows**.\" % Mocodes_df.count()))"
   ]
  },
  {
   "cell_type": "code",
   "execution_count": 115,
   "id": "651b8508",
   "metadata": {},
   "outputs": [
    {
     "name": "stderr",
     "output_type": "stream",
     "text": [
      "\r",
      "[Stage 489:============================>                            (2 + 2) / 4]\r"
     ]
    },
    {
     "name": "stdout",
     "output_type": "stream",
     "text": [
      "+---------+-------------------+\n",
      "|DR_NO    |Mocodes            |\n",
      "+---------+-------------------+\n",
      "|100104832|0344               |\n",
      "|100104836|0100               |\n",
      "|100105037|0416               |\n",
      "|100105253|0417 2000          |\n",
      "|100107036|0337 0421 0543 1240|\n",
      "|100107054|0344               |\n",
      "|100107609|0400 1217 1251     |\n",
      "|100107942|0601               |\n",
      "|100108114|0400               |\n",
      "|100109240|0416 0520          |\n",
      "|100109261|0329 1307          |\n",
      "|100110234|0344 1218 2004     |\n",
      "|100113380|0400 0431 1027 1202|\n",
      "|100113782|0416 2000          |\n",
      "|100114100|0344 1307 1609     |\n",
      "|100115187|0421               |\n",
      "|100115926|0344 1251          |\n",
      "|100116221|0416               |\n",
      "|100117462|0416               |\n",
      "|100118090|1501               |\n",
      "+---------+-------------------+\n",
      "only showing top 20 rows\n",
      "\n"
     ]
    },
    {
     "name": "stderr",
     "output_type": "stream",
     "text": [
      "\r",
      "                                                                                \r"
     ]
    }
   ],
   "source": [
    "SeverityCategorizationDF.select(\"DR_NO\",\"Mocodes\").distinct().show(truncate = False)"
   ]
  },
  {
   "cell_type": "code",
   "execution_count": 116,
   "id": "65d1a264",
   "metadata": {},
   "outputs": [
    {
     "name": "stdout",
     "output_type": "stream",
     "text": [
      "+---------+--------------------+------------------+---+-------+\n",
      "|    DR_NO|           Race Desc|           Mocodes|pos|MO_CODE|\n",
      "+---------+--------------------+------------------+---+-------+\n",
      "|  1307355|Hispanic/Latin/Me...|[0913, 1814, 2000]|  0|   0913|\n",
      "|  1307355|Hispanic/Latin/Me...|[0913, 1814, 2000]|  1|   1814|\n",
      "|  1307355|Hispanic/Latin/Me...|[0913, 1814, 2000]|  2|   2000|\n",
      "| 90631215|               White|[1100, 0400, 1402]|  0|   1100|\n",
      "| 90631215|               White|[1100, 0400, 1402]|  1|   0400|\n",
      "| 90631215|               White|[1100, 0400, 1402]|  2|   1402|\n",
      "|100100501|Hispanic/Latin/Me...|            [0400]|  0|   0400|\n",
      "|100100506|               Black|      [0344, 1402]|  0|   0344|\n",
      "|100100506|               Black|      [0344, 1402]|  1|   1402|\n",
      "|100100508|Hispanic/Latin/Me...|            [0344]|  0|   0344|\n",
      "|100100509|               Black|            [0416]|  0|   0416|\n",
      "|100100510|Hispanic/Latin/Me...|      [0400, 0416]|  0|   0400|\n",
      "|100100510|Hispanic/Latin/Me...|      [0400, 0416]|  1|   0416|\n",
      "|100100511|               White|      [0344, 1402]|  0|   0344|\n",
      "|100100511|               White|      [0344, 1402]|  1|   1402|\n",
      "|100100521|               Black|[0400, 0429, 2000]|  0|   0400|\n",
      "|100100521|               Black|[0400, 0429, 2000]|  1|   0429|\n",
      "|100100521|               Black|[0400, 0429, 2000]|  2|   2000|\n",
      "|100100522|Hispanic/Latin/Me...|            [0344]|  0|   0344|\n",
      "|100100523|               White|            [0329]|  0|   0329|\n",
      "+---------+--------------------+------------------+---+-------+\n",
      "only showing top 20 rows\n",
      "\n"
     ]
    }
   ],
   "source": [
    "Mocodes_split_df= SeverityCategorizationDF.select(\n",
    "    \"DR_NO\",\"Race Desc\",\n",
    "    F.split(\"Mocodes\",\" \").alias(\"Mocodes\"),\n",
    "    F.posexplode(F.split(\"Mocodes\", \" \")).alias(\"pos\",\"MO_CODE\")\n",
    " )\\\n",
    "\n",
    "Mocodes_split_df.show()"
   ]
  },
  {
   "cell_type": "code",
   "execution_count": 117,
   "id": "2bb64b28",
   "metadata": {},
   "outputs": [
    {
     "data": {
      "text/markdown": [
       "**Most frequent Motives for a Crime against Hispanic/Latin/Mexican**."
      ],
      "text/plain": [
       "<IPython.core.display.Markdown object>"
      ]
     },
     "metadata": {},
     "output_type": "display_data"
    },
    {
     "name": "stderr",
     "output_type": "stream",
     "text": [
      "[Stage 493:============================>                            (2 + 2) / 4]\r"
     ]
    },
    {
     "name": "stdout",
     "output_type": "stream",
     "text": [
      "+-----------------------------------------------+----------------------+\n",
      "|MO_DESCRIPTION                                 |Total Motive in Crimes|\n",
      "+-----------------------------------------------+----------------------+\n",
      "|Removes vict property                          |221927                |\n",
      "|Hit-Hit w/ weapon                              |137571                |\n",
      "|Domestic violence                              |89936                 |\n",
      "|Vandalized                                     |87439                 |\n",
      "|Stranger                                       |72744                 |\n",
      "|Force used                                     |61083                 |\n",
      "|Victim knew Suspect                            |58035                 |\n",
      "|Vehicle involved                               |47321                 |\n",
      "|Evidence Booked (any crime)                    |41630                 |\n",
      "|Pushed                                         |38609                 |\n",
      "|Susp uses vehicle                              |36304                 |\n",
      "|Brandishes weapon                              |32662                 |\n",
      "|Susp is/was current/former boyfriend/girlfriend|32118                 |\n",
      "|Gangs                                          |31628                 |\n",
      "|Intimidation                                   |31005                 |\n",
      "|Breaks window                                  |29506                 |\n",
      "|Susp is/was current/former spouse/co-habitant  |29099                 |\n",
      "|Vict knocked to ground                         |28062                 |\n",
      "|Multi-susps overwhelm                          |27392                 |\n",
      "|Threaten to kill                               |26755                 |\n",
      "+-----------------------------------------------+----------------------+\n",
      "only showing top 20 rows\n",
      "\n"
     ]
    },
    {
     "name": "stderr",
     "output_type": "stream",
     "text": [
      "\r",
      "                                                                                \r"
     ]
    }
   ],
   "source": [
    "display(Markdown(\"**Most frequent Motives for a Crime against Hispanic/Latin/Mexican**.\"))\n",
    "\n",
    "Mocodes_tot_df = Mocodes_split_df\\\n",
    "    .where(col(\"Race Desc\")==\"Hispanic/Latin/Mexican\")\\\n",
    "    .join(Mocodes_df,\"MO_CODE\")\\\n",
    "    .groupBy(\"MO_DESCRIPTION\")\\\n",
    "    .agg(count(\"MO_DESCRIPTION\").alias(\"Total Motive in Crimes\"))\\\n",
    "    .orderBy(col(\"Total Motive in Crimes\").desc())\\\n",
    "    .show(truncate = False)"
   ]
  },
  {
   "cell_type": "markdown",
   "id": "cc40a203",
   "metadata": {},
   "source": [
    "# Machine Learning Model to Predict if crime is done to a hispanic"
   ]
  },
  {
   "cell_type": "markdown",
   "id": "ef978973",
   "metadata": {},
   "source": [
    "We decided to try with time segment, age, sex, Crm Cd and first motive to try to predict correctly a crime against hispanic. This implied more feature engineering and reversing previous transformations to be able to feed the model with the right type of data."
   ]
  },
  {
   "cell_type": "markdown",
   "id": "73408b12",
   "metadata": {},
   "source": [
    "### Data Cleansing for model"
   ]
  },
  {
   "cell_type": "code",
   "execution_count": 118,
   "id": "37dc4b6d",
   "metadata": {},
   "outputs": [],
   "source": [
    "Firstmotive_df = Mocodes_split_df.where(col(\"pos\")==0)\\\n",
    "                                    .select(\"DR_NO\",\"MO_CODE\")#.show()\n",
    "\n",
    "Crimes_df=SeverityCategorizationDF\\\n",
    "            .join(Firstmotive_df, \"DR_NO\")\\\n",
    "            #.select(\"MO_CODE\").show()"
   ]
  },
  {
   "cell_type": "code",
   "execution_count": 119,
   "id": "ed975b17",
   "metadata": {},
   "outputs": [
    {
     "name": "stdout",
     "output_type": "stream",
     "text": [
      "root\n",
      " |-- DR_NO: integer (nullable = true)\n",
      " |-- Date Rptd: date (nullable = true)\n",
      " |-- DATE OCC: date (nullable = true)\n",
      " |-- TIME OCC: timestamp (nullable = true)\n",
      " |-- AREA: integer (nullable = true)\n",
      " |-- AREA NAME: string (nullable = true)\n",
      " |-- Rpt Dist No: integer (nullable = true)\n",
      " |-- Part 1-2: integer (nullable = true)\n",
      " |-- Crm Cd: integer (nullable = true)\n",
      " |-- Crm Cd Desc: string (nullable = true)\n",
      " |-- Mocodes: string (nullable = true)\n",
      " |-- Vict Age: integer (nullable = true)\n",
      " |-- Vict Sex: string (nullable = true)\n",
      " |-- Vict Descent: string (nullable = true)\n",
      " |-- Premis Cd: integer (nullable = true)\n",
      " |-- Premis Desc: string (nullable = true)\n",
      " |-- Weapon Used Cd: integer (nullable = true)\n",
      " |-- Weapon Desc: string (nullable = true)\n",
      " |-- Status: string (nullable = true)\n",
      " |-- Status Desc: string (nullable = true)\n",
      " |-- Crm Cd 1: integer (nullable = true)\n",
      " |-- Crm Cd 2: integer (nullable = true)\n",
      " |-- Crm Cd 3: integer (nullable = true)\n",
      " |-- Crm Cd 4: integer (nullable = true)\n",
      " |-- LOCATION: string (nullable = true)\n",
      " |-- Cross Street: string (nullable = true)\n",
      " |-- LAT: double (nullable = true)\n",
      " |-- LON: double (nullable = true)\n",
      " |-- Year: integer (nullable = true)\n",
      " |-- Month: integer (nullable = true)\n",
      " |-- Quarter: integer (nullable = true)\n",
      " |-- TimeSegment: string (nullable = false)\n",
      " |-- CrimeSeverity: string (nullable = false)\n",
      " |-- Age_Seg: string (nullable = false)\n",
      " |-- Race Desc: string (nullable = false)\n",
      " |-- MO_CODE: string (nullable = true)\n",
      "\n"
     ]
    }
   ],
   "source": [
    "Crimes_df.printSchema()"
   ]
  },
  {
   "cell_type": "code",
   "execution_count": 120,
   "id": "878e7646",
   "metadata": {},
   "outputs": [
    {
     "name": "stderr",
     "output_type": "stream",
     "text": [
      "[Stage 496:============================>                            (2 + 2) / 4]\r"
     ]
    },
    {
     "name": "stdout",
     "output_type": "stream",
     "text": [
      "+---------------+--------+--------+------+------------+-------+\n",
      "|    TimeSegment|Vict Age|Vict Sex|Crm Cd|Vict Descent|MO_CODE|\n",
      "+---------------+--------+--------+------+------------+-------+\n",
      "|1.Early Morning|    35.0|       F| 626.0|           B|  400.0|\n",
      "|         6.Dawn|    41.0|       F| 740.0|           H|  329.0|\n",
      "|      4.Evening|    47.0|       F| 230.0|           W|  411.0|\n",
      "| 2.Late Morning|    28.0|       M| 647.0|           W|  400.0|\n",
      "| 2.Late Morning|    45.0|       F| 624.0|           B|  416.0|\n",
      "| 2.Late Morning|    36.0|       M| 649.0|           O|  800.0|\n",
      "| 2.Late Morning|    46.0|       F| 330.0|           W|  344.0|\n",
      "|      4.Evening|    60.0|       M| 420.0|           H|  344.0|\n",
      "|      4.Evening|    24.0|       F| 624.0|           H|  400.0|\n",
      "|      4.Evening|    51.0|       M| 745.0|           H|  329.0|\n",
      "|      4.Evening|    20.0|       F| 946.0|           H|  329.0|\n",
      "|    3.Afternoon|    16.0|       M| 930.0|           H|  421.0|\n",
      "|        5.Night|    41.0|       F| 745.0|           O|  329.0|\n",
      "|      4.Evening|    42.0|       M| 946.0|           W|  601.0|\n",
      "|1.Early Morning|    38.0|       M| 440.0|           H|  344.0|\n",
      "|        5.Night|    37.0|       M| 668.0|           H|  344.0|\n",
      "|      4.Evening|    75.0|       M| 330.0|           A|  344.0|\n",
      "|        5.Night|    49.0|       M| 210.0|           B|  344.0|\n",
      "|      4.Evening|    21.0|       F| 440.0|           H|  344.0|\n",
      "|      4.Evening|    42.0|       M| 740.0|           W|  329.0|\n",
      "+---------------+--------+--------+------+------------+-------+\n",
      "only showing top 20 rows\n",
      "\n"
     ]
    },
    {
     "name": "stderr",
     "output_type": "stream",
     "text": [
      "\r",
      "                                                                                \r"
     ]
    }
   ],
   "source": [
    "MLdf = Crimes_df.select(col(\"TimeSegment\"),\\\n",
    "                    col(\"Vict Age\").cast(\"float\"),\\\n",
    "                    col(\"Vict Sex\"),\\\n",
    "                    col(\"Crm Cd\").cast(\"float\"),\\\n",
    "                    col(\"Vict Descent\"),\\\n",
    "                    col(\"MO_CODE\").cast(\"float\"))\n",
    "\n",
    "MLdf.show()"
   ]
  },
  {
   "cell_type": "code",
   "execution_count": 121,
   "id": "49f627c6",
   "metadata": {},
   "outputs": [
    {
     "name": "stderr",
     "output_type": "stream",
     "text": [
      "[Stage 500:=============================================>       (173 + 2) / 200]\r"
     ]
    },
    {
     "name": "stdout",
     "output_type": "stream",
     "text": [
      "+-----------+--------+--------+------+------------+-------+\n",
      "|TimeSegment|Vict Age|Vict Sex|Crm Cd|Vict Descent|MO_CODE|\n",
      "+-----------+--------+--------+------+------------+-------+\n",
      "|          0|       0|      57|     0|          83|      0|\n",
      "+-----------+--------+--------+------+------------+-------+\n",
      "\n"
     ]
    },
    {
     "name": "stderr",
     "output_type": "stream",
     "text": [
      "\r",
      "[Stage 500:==================================================>  (190 + 2) / 200]\r",
      "\r",
      "                                                                                \r"
     ]
    }
   ],
   "source": [
    "#Check for nulls\n",
    "MLdf.select([count(when(isnull(c), c)).alias(c) for c in MLdf.columns])\\\n",
    "            .show()"
   ]
  },
  {
   "cell_type": "code",
   "execution_count": 122,
   "id": "40761373",
   "metadata": {},
   "outputs": [],
   "source": [
    "MLdf_clean = MLdf.dropna(how=\"any\")"
   ]
  },
  {
   "cell_type": "markdown",
   "id": "5deb0865",
   "metadata": {},
   "source": [
    "### Feature Engineering"
   ]
  },
  {
   "cell_type": "code",
   "execution_count": 123,
   "id": "3a65993e",
   "metadata": {},
   "outputs": [
    {
     "name": "stderr",
     "output_type": "stream",
     "text": [
      "[Stage 503:>                                                        (0 + 2) / 4]\r"
     ]
    },
    {
     "name": "stdout",
     "output_type": "stream",
     "text": [
      "+---------------+--------+--------+------+------------+-------+---------------+\n",
      "|    TimeSegment|Vict Age|Vict Sex|Crm Cd|Vict Descent|MO_CODE|TimeSegmentCode|\n",
      "+---------------+--------+--------+------+------------+-------+---------------+\n",
      "|1.Early Morning|    35.0|       F| 626.0|           0|  400.0|              1|\n",
      "|         6.Dawn|    41.0|       F| 740.0|           1|  329.0|              6|\n",
      "|      4.Evening|    47.0|       F| 230.0|           0|  411.0|              4|\n",
      "| 2.Late Morning|    28.0|       M| 647.0|           0|  400.0|              2|\n",
      "| 2.Late Morning|    45.0|       F| 624.0|           0|  416.0|              2|\n",
      "| 2.Late Morning|    36.0|       M| 649.0|           0|  800.0|              2|\n",
      "| 2.Late Morning|    46.0|       F| 330.0|           0|  344.0|              2|\n",
      "|      4.Evening|    60.0|       M| 420.0|           1|  344.0|              4|\n",
      "|      4.Evening|    24.0|       F| 624.0|           1|  400.0|              4|\n",
      "|      4.Evening|    51.0|       M| 745.0|           1|  329.0|              4|\n",
      "|      4.Evening|    20.0|       F| 946.0|           1|  329.0|              4|\n",
      "|    3.Afternoon|    16.0|       M| 930.0|           1|  421.0|              3|\n",
      "|        5.Night|    41.0|       F| 745.0|           0|  329.0|              5|\n",
      "|      4.Evening|    42.0|       M| 946.0|           0|  601.0|              4|\n",
      "|1.Early Morning|    38.0|       M| 440.0|           1|  344.0|              1|\n",
      "|        5.Night|    37.0|       M| 668.0|           1|  344.0|              5|\n",
      "|      4.Evening|    75.0|       M| 330.0|           0|  344.0|              4|\n",
      "|        5.Night|    49.0|       M| 210.0|           0|  344.0|              5|\n",
      "|      4.Evening|    21.0|       F| 440.0|           1|  344.0|              4|\n",
      "|      4.Evening|    42.0|       M| 740.0|           0|  329.0|              4|\n",
      "+---------------+--------+--------+------+------------+-------+---------------+\n",
      "only showing top 20 rows\n",
      "\n"
     ]
    },
    {
     "name": "stderr",
     "output_type": "stream",
     "text": [
      "\r",
      "[Stage 503:============================>                            (2 + 2) / 4]\r",
      "\r",
      "                                                                                \r"
     ]
    }
   ],
   "source": [
    "MLdf_hispanic = MLdf_clean.withColumn(\"Vict Descent\", when(col(\"Vict Descent\")==\"H\",1)\\\n",
    "                               .otherwise(0))\n",
    "MLdf_hips_time = MLdf_hispanic.withColumn(\"TimeSegmentCode\",when(col(\"TimeSegment\")==\"1.Early Morning\",1)\\\n",
    "                                        .when(col(\"TimeSegment\")==\"2.Late Morning\",2)\\\n",
    "                                        .when(col(\"TimeSegment\")==\"3.Afternoon\",3)\\\n",
    "                                        .when(col(\"TimeSegment\")==\"4.Evening\",4)\\\n",
    "                                        .when(col(\"TimeSegment\")==\"5.Night\",5)\\\n",
    "                                        .otherwise(6))\n",
    "MLdf_hips_time.show()"
   ]
  },
  {
   "cell_type": "code",
   "execution_count": 124,
   "id": "fbf28d1d",
   "metadata": {},
   "outputs": [
    {
     "name": "stderr",
     "output_type": "stream",
     "text": [
      "[Stage 510:============================>                            (2 + 2) / 4]\r"
     ]
    },
    {
     "name": "stdout",
     "output_type": "stream",
     "text": [
      "+---------------+--------+--------+------+------------+-------+---------------+------+\n",
      "|    TimeSegment|Vict Age|Vict Sex|Crm Cd|Vict Descent|MO_CODE|TimeSegmentCode|Gender|\n",
      "+---------------+--------+--------+------+------------+-------+---------------+------+\n",
      "|1.Early Morning|    35.0|       F| 626.0|           0|  400.0|              1|   0.0|\n",
      "|         6.Dawn|    41.0|       F| 740.0|           1|  329.0|              6|   0.0|\n",
      "|      4.Evening|    47.0|       F| 230.0|           0|  411.0|              4|   0.0|\n",
      "| 2.Late Morning|    28.0|       M| 647.0|           0|  400.0|              2|   1.0|\n",
      "| 2.Late Morning|    45.0|       F| 624.0|           0|  416.0|              2|   0.0|\n",
      "| 2.Late Morning|    36.0|       M| 649.0|           0|  800.0|              2|   1.0|\n",
      "| 2.Late Morning|    46.0|       F| 330.0|           0|  344.0|              2|   0.0|\n",
      "|      4.Evening|    60.0|       M| 420.0|           1|  344.0|              4|   1.0|\n",
      "|      4.Evening|    24.0|       F| 624.0|           1|  400.0|              4|   0.0|\n",
      "|      4.Evening|    51.0|       M| 745.0|           1|  329.0|              4|   1.0|\n",
      "|      4.Evening|    20.0|       F| 946.0|           1|  329.0|              4|   0.0|\n",
      "|    3.Afternoon|    16.0|       M| 930.0|           1|  421.0|              3|   1.0|\n",
      "|        5.Night|    41.0|       F| 745.0|           0|  329.0|              5|   0.0|\n",
      "|      4.Evening|    42.0|       M| 946.0|           0|  601.0|              4|   1.0|\n",
      "|1.Early Morning|    38.0|       M| 440.0|           1|  344.0|              1|   1.0|\n",
      "|        5.Night|    37.0|       M| 668.0|           1|  344.0|              5|   1.0|\n",
      "|      4.Evening|    75.0|       M| 330.0|           0|  344.0|              4|   1.0|\n",
      "|        5.Night|    49.0|       M| 210.0|           0|  344.0|              5|   1.0|\n",
      "|      4.Evening|    21.0|       F| 440.0|           1|  344.0|              4|   0.0|\n",
      "|      4.Evening|    42.0|       M| 740.0|           0|  329.0|              4|   1.0|\n",
      "+---------------+--------+--------+------+------------+-------+---------------+------+\n",
      "only showing top 20 rows\n",
      "\n"
     ]
    },
    {
     "name": "stderr",
     "output_type": "stream",
     "text": [
      "\r",
      "                                                                                \r"
     ]
    }
   ],
   "source": [
    "from pyspark.ml.feature import StringIndexer\n",
    "\n",
    "MLdf_model = StringIndexer(inputCol=\"Vict Sex\",\\\n",
    "                            outputCol='Gender',\\\n",
    "                            handleInvalid='keep').fit(MLdf_hips_time).transform(MLdf_hips_time)\n",
    "\n",
    "\n",
    "MLdf_model.show()"
   ]
  },
  {
   "cell_type": "code",
   "execution_count": 125,
   "id": "f74de76e",
   "metadata": {},
   "outputs": [
    {
     "data": {
      "text/plain": [
       "[('Vict Age', 'float'),\n",
       " ('Crm Cd', 'float'),\n",
       " ('Vict Descent', 'int'),\n",
       " ('MO_CODE', 'float'),\n",
       " ('TimeSegmentCode', 'int'),\n",
       " ('Gender', 'double')]"
      ]
     },
     "execution_count": 125,
     "metadata": {},
     "output_type": "execute_result"
    }
   ],
   "source": [
    "#check for datatypes\n",
    "MLdf_model=MLdf_model.drop(\"Vict Sex\",\"TimeSegment\")\n",
    "MLdf_model.dtypes"
   ]
  },
  {
   "cell_type": "code",
   "execution_count": 126,
   "id": "8fb8be36",
   "metadata": {},
   "outputs": [
    {
     "name": "stderr",
     "output_type": "stream",
     "text": [
      "[Stage 513:==========================================>              (3 + 1) / 4]\r"
     ]
    },
    {
     "name": "stdout",
     "output_type": "stream",
     "text": [
      "+--------+------+------------+-------+---------------+------+--------------------+\n",
      "|Vict Age|Crm Cd|Vict Descent|MO_CODE|TimeSegmentCode|Gender|            features|\n",
      "+--------+------+------------+-------+---------------+------+--------------------+\n",
      "|    35.0| 626.0|           0|  400.0|              1|   0.0|[1.0,35.0,0.0,626...|\n",
      "|    41.0| 740.0|           1|  329.0|              6|   0.0|[6.0,41.0,0.0,740...|\n",
      "|    47.0| 230.0|           0|  411.0|              4|   0.0|[4.0,47.0,0.0,230...|\n",
      "|    28.0| 647.0|           0|  400.0|              2|   1.0|[2.0,28.0,1.0,647...|\n",
      "|    45.0| 624.0|           0|  416.0|              2|   0.0|[2.0,45.0,0.0,624...|\n",
      "|    36.0| 649.0|           0|  800.0|              2|   1.0|[2.0,36.0,1.0,649...|\n",
      "|    46.0| 330.0|           0|  344.0|              2|   0.0|[2.0,46.0,0.0,330...|\n",
      "|    60.0| 420.0|           1|  344.0|              4|   1.0|[4.0,60.0,1.0,420...|\n",
      "|    24.0| 624.0|           1|  400.0|              4|   0.0|[4.0,24.0,0.0,624...|\n",
      "|    51.0| 745.0|           1|  329.0|              4|   1.0|[4.0,51.0,1.0,745...|\n",
      "|    20.0| 946.0|           1|  329.0|              4|   0.0|[4.0,20.0,0.0,946...|\n",
      "|    16.0| 930.0|           1|  421.0|              3|   1.0|[3.0,16.0,1.0,930...|\n",
      "|    41.0| 745.0|           0|  329.0|              5|   0.0|[5.0,41.0,0.0,745...|\n",
      "|    42.0| 946.0|           0|  601.0|              4|   1.0|[4.0,42.0,1.0,946...|\n",
      "|    38.0| 440.0|           1|  344.0|              1|   1.0|[1.0,38.0,1.0,440...|\n",
      "|    37.0| 668.0|           1|  344.0|              5|   1.0|[5.0,37.0,1.0,668...|\n",
      "|    75.0| 330.0|           0|  344.0|              4|   1.0|[4.0,75.0,1.0,330...|\n",
      "|    49.0| 210.0|           0|  344.0|              5|   1.0|[5.0,49.0,1.0,210...|\n",
      "|    21.0| 440.0|           1|  344.0|              4|   0.0|[4.0,21.0,0.0,440...|\n",
      "|    42.0| 740.0|           0|  329.0|              4|   1.0|[4.0,42.0,1.0,740...|\n",
      "+--------+------+------------+-------+---------------+------+--------------------+\n",
      "only showing top 20 rows\n",
      "\n"
     ]
    },
    {
     "name": "stderr",
     "output_type": "stream",
     "text": [
      "\r",
      "                                                                                \r"
     ]
    }
   ],
   "source": [
    "#assemnling features into one single list\n",
    "from pyspark.ml.feature import VectorAssembler\n",
    "\n",
    "required_features = ['TimeSegmentCode','Vict Age','Gender','Crm Cd','MO_CODE']\n",
    "assembler = VectorAssembler(inputCols=required_features,\\\n",
    "                            outputCol='features')\n",
    "ML_featuresDF = assembler.transform(MLdf_model)\n",
    "\n",
    "ML_featuresDF.show()"
   ]
  },
  {
   "cell_type": "markdown",
   "id": "20d78806",
   "metadata": {},
   "source": [
    "### Model Training - Random Forest Classifier\n"
   ]
  },
  {
   "cell_type": "code",
   "execution_count": 127,
   "id": "8cb568bd",
   "metadata": {},
   "outputs": [
    {
     "name": "stderr",
     "output_type": "stream",
     "text": [
      "                                                                                \r"
     ]
    },
    {
     "data": {
      "text/plain": [
       "[('Vict Age', 'float'),\n",
       " ('Crm Cd', 'float'),\n",
       " ('Vict Descent', 'int'),\n",
       " ('MO_CODE', 'float'),\n",
       " ('TimeSegmentCode', 'int'),\n",
       " ('Gender', 'double'),\n",
       " ('features', 'vector'),\n",
       " ('rawPrediction', 'vector'),\n",
       " ('probability', 'vector'),\n",
       " ('prediction', 'double')]"
      ]
     },
     "execution_count": 127,
     "metadata": {},
     "output_type": "execute_result"
    }
   ],
   "source": [
    "#Train and test set\n",
    "from pyspark.ml.classification import RandomForestClassifier\n",
    "\n",
    "# 1. Split the current data set to get the training (80%) and test (20%) data sets.\n",
    "(trainingDF, testDF) = ML_featuresDF.randomSplit([0.8,0.2])\n",
    "\n",
    "# 2. Initialize the algorithm to understand our featured data set.\n",
    "rfcAlgorithm = RandomForestClassifier(labelCol='Vict Descent',\\\n",
    "                                      featuresCol='features',\\\n",
    "                                      maxDepth=5)\n",
    "\n",
    "#3. Train the algorithm to build the model and apply it on the test data set.\n",
    "model = rfcAlgorithm.fit(trainingDF)\n",
    "predictions = model.transform(testDF)\n",
    "predictions.dtypes"
   ]
  },
  {
   "cell_type": "markdown",
   "id": "94190434",
   "metadata": {},
   "source": [
    "### Model Evaluation"
   ]
  },
  {
   "cell_type": "code",
   "execution_count": 131,
   "id": "277815f3",
   "metadata": {},
   "outputs": [
    {
     "name": "stderr",
     "output_type": "stream",
     "text": [
      "[Stage 563:===================================================> (194 + 2) / 200]\r"
     ]
    },
    {
     "name": "stdout",
     "output_type": "stream",
     "text": [
      "The recall of our model is  0.9048349736602911\n"
     ]
    },
    {
     "name": "stderr",
     "output_type": "stream",
     "text": [
      "\r",
      "                                                                                \r"
     ]
    }
   ],
   "source": [
    "from pyspark.ml.evaluation import MulticlassClassificationEvaluator\n",
    "\n",
    "evaluator = MulticlassClassificationEvaluator(labelCol='Vict Descent',\\\n",
    "                                              predictionCol='prediction',\\\n",
    "                                              metricName='recallByLabel')\n",
    "precision = evaluator.evaluate(predictions)\n",
    "print('The recall of our model is ', precision)"
   ]
  },
  {
   "cell_type": "code",
   "execution_count": 132,
   "id": "dba83c36",
   "metadata": {},
   "outputs": [
    {
     "data": {
      "text/plain": [
       "0.40357380030562834"
      ]
     },
     "execution_count": 132,
     "metadata": {},
     "output_type": "execute_result"
    }
   ],
   "source": [
    "TotalCrimeHisp = SeverityCategorizationDF.where(col(\"Race Desc\")==\"Hispanic/Latin/Mexican\").count()\n",
    "\n",
    "TotalCrime= SeverityCategorizationDF.count()\n",
    "\n",
    "TotalCrimeHisp/TotalCrime"
   ]
  },
  {
   "cell_type": "markdown",
   "id": "76f781b6",
   "metadata": {},
   "source": [
    "# Conclusion"
   ]
  },
  {
   "cell_type": "markdown",
   "id": "a211bec8",
   "metadata": {},
   "source": [
    "We managed to obtain a model with 89% of recall, this is a great improvement taking into consideration that we have 40% of hispanic victims in our dataset. This is evidence enough to conclude that this variables are capable to predict a crime agianst a hispanic, and that there are opportunities to stop this behavior and prevent more racial crime relates in LA."
   ]
  },
  {
   "cell_type": "code",
   "execution_count": null,
   "id": "64986032",
   "metadata": {},
   "outputs": [],
   "source": []
  },
  {
   "cell_type": "code",
   "execution_count": null,
   "id": "9e35e713",
   "metadata": {},
   "outputs": [],
   "source": []
  }
 ],
 "metadata": {
  "kernelspec": {
   "display_name": "Python 3 (ipykernel)",
   "language": "python",
   "name": "python3"
  },
  "language_info": {
   "codemirror_mode": {
    "name": "ipython",
    "version": 3
   },
   "file_extension": ".py",
   "mimetype": "text/x-python",
   "name": "python",
   "nbconvert_exporter": "python",
   "pygments_lexer": "ipython3",
   "version": "3.7.3"
  }
 },
 "nbformat": 4,
 "nbformat_minor": 5
}
